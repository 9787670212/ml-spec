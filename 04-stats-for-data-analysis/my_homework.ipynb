{
 "cells": [
  {
   "cell_type": "code",
   "execution_count": 152,
   "metadata": {
    "collapsed": false
   },
   "outputs": [
    {
     "name": "stdout",
     "output_type": "stream",
     "text": [
      "Populating the interactive namespace from numpy and matplotlib\n"
     ]
    }
   ],
   "source": [
    "\n",
    "import numpy as np\n",
    "import pandas as pd\n",
    "import scipy.stats\n",
    "from statsmodels.stats import weightstats\n",
    "from statsmodels.stats import proportion\n",
    "import statsmodels.formula.api as smf\n",
    "import statsmodels.stats.api as sms\n",
    "\n",
    "%pylab inline"
   ]
  },
  {
   "cell_type": "code",
   "execution_count": null,
   "metadata": {
    "collapsed": false
   },
   "outputs": [],
   "source": []
  },
  {
   "cell_type": "code",
   "execution_count": 153,
   "metadata": {
    "collapsed": false
   },
   "outputs": [],
   "source": [
    "data = pd.read_csv('credit_card_default_analysis.csv', sep = '\\n', delimiter=\",\", header = 0)"
   ]
  },
  {
   "cell_type": "code",
   "execution_count": 154,
   "metadata": {
    "collapsed": false
   },
   "outputs": [
    {
     "data": {
      "text/html": [
       "<div>\n",
       "<table border=\"1\" class=\"dataframe\">\n",
       "  <thead>\n",
       "    <tr style=\"text-align: right;\">\n",
       "      <th></th>\n",
       "      <th>ID</th>\n",
       "      <th>LIMIT_BAL</th>\n",
       "      <th>SEX</th>\n",
       "      <th>EDUCATION</th>\n",
       "      <th>MARRIAGE</th>\n",
       "      <th>AGE</th>\n",
       "      <th>PAY_0</th>\n",
       "      <th>PAY_2</th>\n",
       "      <th>PAY_3</th>\n",
       "      <th>PAY_4</th>\n",
       "      <th>...</th>\n",
       "      <th>BILL_AMT4</th>\n",
       "      <th>BILL_AMT5</th>\n",
       "      <th>BILL_AMT6</th>\n",
       "      <th>PAY_AMT1</th>\n",
       "      <th>PAY_AMT2</th>\n",
       "      <th>PAY_AMT3</th>\n",
       "      <th>PAY_AMT4</th>\n",
       "      <th>PAY_AMT5</th>\n",
       "      <th>PAY_AMT6</th>\n",
       "      <th>default</th>\n",
       "    </tr>\n",
       "  </thead>\n",
       "  <tbody>\n",
       "    <tr>\n",
       "      <th>0</th>\n",
       "      <td>1</td>\n",
       "      <td>20000</td>\n",
       "      <td>2</td>\n",
       "      <td>2</td>\n",
       "      <td>1</td>\n",
       "      <td>24</td>\n",
       "      <td>2</td>\n",
       "      <td>2</td>\n",
       "      <td>0</td>\n",
       "      <td>0</td>\n",
       "      <td>...</td>\n",
       "      <td>0</td>\n",
       "      <td>0</td>\n",
       "      <td>0</td>\n",
       "      <td>0</td>\n",
       "      <td>689</td>\n",
       "      <td>0</td>\n",
       "      <td>0</td>\n",
       "      <td>0</td>\n",
       "      <td>0</td>\n",
       "      <td>1</td>\n",
       "    </tr>\n",
       "    <tr>\n",
       "      <th>1</th>\n",
       "      <td>2</td>\n",
       "      <td>120000</td>\n",
       "      <td>2</td>\n",
       "      <td>2</td>\n",
       "      <td>2</td>\n",
       "      <td>26</td>\n",
       "      <td>0</td>\n",
       "      <td>2</td>\n",
       "      <td>0</td>\n",
       "      <td>0</td>\n",
       "      <td>...</td>\n",
       "      <td>3272</td>\n",
       "      <td>3455</td>\n",
       "      <td>3261</td>\n",
       "      <td>0</td>\n",
       "      <td>1000</td>\n",
       "      <td>1000</td>\n",
       "      <td>1000</td>\n",
       "      <td>0</td>\n",
       "      <td>2000</td>\n",
       "      <td>1</td>\n",
       "    </tr>\n",
       "    <tr>\n",
       "      <th>2</th>\n",
       "      <td>3</td>\n",
       "      <td>90000</td>\n",
       "      <td>2</td>\n",
       "      <td>2</td>\n",
       "      <td>2</td>\n",
       "      <td>34</td>\n",
       "      <td>0</td>\n",
       "      <td>0</td>\n",
       "      <td>0</td>\n",
       "      <td>0</td>\n",
       "      <td>...</td>\n",
       "      <td>14331</td>\n",
       "      <td>14948</td>\n",
       "      <td>15549</td>\n",
       "      <td>1518</td>\n",
       "      <td>1500</td>\n",
       "      <td>1000</td>\n",
       "      <td>1000</td>\n",
       "      <td>1000</td>\n",
       "      <td>5000</td>\n",
       "      <td>0</td>\n",
       "    </tr>\n",
       "    <tr>\n",
       "      <th>3</th>\n",
       "      <td>4</td>\n",
       "      <td>50000</td>\n",
       "      <td>2</td>\n",
       "      <td>2</td>\n",
       "      <td>1</td>\n",
       "      <td>37</td>\n",
       "      <td>0</td>\n",
       "      <td>0</td>\n",
       "      <td>0</td>\n",
       "      <td>0</td>\n",
       "      <td>...</td>\n",
       "      <td>28314</td>\n",
       "      <td>28959</td>\n",
       "      <td>29547</td>\n",
       "      <td>2000</td>\n",
       "      <td>2019</td>\n",
       "      <td>1200</td>\n",
       "      <td>1100</td>\n",
       "      <td>1069</td>\n",
       "      <td>1000</td>\n",
       "      <td>0</td>\n",
       "    </tr>\n",
       "    <tr>\n",
       "      <th>4</th>\n",
       "      <td>5</td>\n",
       "      <td>50000</td>\n",
       "      <td>1</td>\n",
       "      <td>2</td>\n",
       "      <td>1</td>\n",
       "      <td>57</td>\n",
       "      <td>0</td>\n",
       "      <td>0</td>\n",
       "      <td>0</td>\n",
       "      <td>0</td>\n",
       "      <td>...</td>\n",
       "      <td>20940</td>\n",
       "      <td>19146</td>\n",
       "      <td>19131</td>\n",
       "      <td>2000</td>\n",
       "      <td>36681</td>\n",
       "      <td>10000</td>\n",
       "      <td>9000</td>\n",
       "      <td>689</td>\n",
       "      <td>679</td>\n",
       "      <td>0</td>\n",
       "    </tr>\n",
       "  </tbody>\n",
       "</table>\n",
       "<p>5 rows × 25 columns</p>\n",
       "</div>"
      ],
      "text/plain": [
       "   ID  LIMIT_BAL  SEX  EDUCATION  MARRIAGE  AGE  PAY_0  PAY_2  PAY_3  PAY_4  \\\n",
       "0   1      20000    2          2         1   24      2      2      0      0   \n",
       "1   2     120000    2          2         2   26      0      2      0      0   \n",
       "2   3      90000    2          2         2   34      0      0      0      0   \n",
       "3   4      50000    2          2         1   37      0      0      0      0   \n",
       "4   5      50000    1          2         1   57      0      0      0      0   \n",
       "\n",
       "    ...     BILL_AMT4  BILL_AMT5  BILL_AMT6  PAY_AMT1  PAY_AMT2  PAY_AMT3  \\\n",
       "0   ...             0          0          0         0       689         0   \n",
       "1   ...          3272       3455       3261         0      1000      1000   \n",
       "2   ...         14331      14948      15549      1518      1500      1000   \n",
       "3   ...         28314      28959      29547      2000      2019      1200   \n",
       "4   ...         20940      19146      19131      2000     36681     10000   \n",
       "\n",
       "   PAY_AMT4  PAY_AMT5  PAY_AMT6  default  \n",
       "0         0         0         0        1  \n",
       "1      1000         0      2000        1  \n",
       "2      1000      1000      5000        0  \n",
       "3      1100      1069      1000        0  \n",
       "4      9000       689       679        0  \n",
       "\n",
       "[5 rows x 25 columns]"
      ]
     },
     "execution_count": 154,
     "metadata": {},
     "output_type": "execute_result"
    }
   ],
   "source": [
    "data.head()"
   ]
  },
  {
   "cell_type": "markdown",
   "metadata": {},
   "source": [
    "# Задание 1\n",
    "Размер кредитного лимита (LIMIT_BAL): Проверьте гипотезу о равенстве медиан распределений значений кредитного лимита с помощью интервальной оценки и с помощью одного из подходящих непараметрических тестов проверки равенства средних в двух выборках: тех людей, кто вернул кредит (default = 0) и тех, кто его не вернул (default = 1). Значимы ли полученные результаты с практической точки зрения ?"
   ]
  },
  {
   "cell_type": "code",
   "execution_count": 155,
   "metadata": {
    "collapsed": false
   },
   "outputs": [],
   "source": [
    "#Разделим данные на тех кто вернул деньги и на тех, кто - нет\n",
    "data_def0 = data[data.default==0]\n",
    "data_def1 = data[data.default==1]"
   ]
  },
  {
   "cell_type": "markdown",
   "metadata": {},
   "source": [
    "Построим гистограммы для признака LIMIT_BAL в выборках кто вернул кредит (default = 0) и тех, кто его не вернул (default = 1). А также расчитаем медианы распределений и значимость этого результата"
   ]
  },
  {
   "cell_type": "code",
   "execution_count": 156,
   "metadata": {
    "collapsed": false
   },
   "outputs": [
    {
     "data": {
      "text/plain": [
       "<matplotlib.legend.Legend at 0x49656c88>"
      ]
     },
     "execution_count": 156,
     "metadata": {},
     "output_type": "execute_result"
    },
    {
     "data": {
      "image/png": "[encoded data removed]",
      "text/plain": [
       "<matplotlib.figure.Figure at 0x50ac3898>"
      ]
     },
     "metadata": {},
     "output_type": "display_data"
    }
   ],
   "source": [
    "plt.figure(figsize=(15,5))\n",
    "\n",
    "plt.subplot(1,2,1)\n",
    "plt.hist(data_def0.LIMIT_BAL , label='$Median_{default=0} = %e$'%data_def0.LIMIT_BAL.median())\n",
    "plt.xlabel('LIMIT_BAL, default==0')\n",
    "plt.ylabel('Number')\n",
    "plt.legend(loc='best')\n",
    "\n",
    "\n",
    "\n",
    "plt.subplot(1,2,2)\n",
    "plt.hist(data_def1.LIMIT_BAL, label='$Median_{default=1} = %e$'%data_def1.LIMIT_BAL.median())\n",
    "plt.xlabel('LIMIT_BAL, default==1')\n",
    "plt.legend(loc='best')"
   ]
  },
  {
   "cell_type": "code",
   "execution_count": 157,
   "metadata": {
    "collapsed": true
   },
   "outputs": [],
   "source": [
    "def get_bootstrap_samples(data, n_samples):\n",
    "    indices = np.random.randint(0, len(data), (n_samples, len(data)))\n",
    "    samples = data[indices]\n",
    "    return samples\n",
    "\n",
    "def stat_intervals(stat, alpha = 0.05):\n",
    "    boundaries = np.percentile(stat, [100 * alpha / 2., 100 * (1 - alpha / 2.)])\n",
    "    return boundaries"
   ]
  },
  {
   "cell_type": "code",
   "execution_count": 158,
   "metadata": {
    "collapsed": false
   },
   "outputs": [
    {
     "name": "stdout",
     "output_type": "stream",
     "text": [
      "('95% confidence interval for default=0 median:', array([ 150000.,  150000.]))\n",
      "('95% confidence interval for default=1 median:', array([ 80000.,  90000.]))\n",
      "('95% confidence interval for difference median:', array([ 60000.,  70000.]))\n"
     ]
    }
   ],
   "source": [
    "def0_medians = np.median(get_bootstrap_samples(data_def0.LIMIT_BAL.values, 1000), axis=1)\n",
    "def1_medians = np.median(get_bootstrap_samples(data_def1.LIMIT_BAL.values, 1000), axis=1)\n",
    "delta_median = map(lambda x: x[0] - x[1], zip(def0_medians, def1_medians))\n",
    "print (\"95% confidence interval for default=0 median:\",  stat_intervals(def0_medians))\n",
    "print (\"95% confidence interval for default=1 median:\",  stat_intervals(def1_medians))\n",
    "print (\"95% confidence interval for difference median:\",  stat_intervals(delta_median))"
   ]
  },
  {
   "cell_type": "markdown",
   "metadata": {},
   "source": [
    "# Ответ: \n",
    "Согласно полученному доверительному интервалу разницы медиан, гипотеза об одинаковости медианных значений можно уверенно отвергнуть, поскольку полученный интервал не содержит \"0\"\n"
   ]
  },
  {
   "cell_type": "code",
   "execution_count": 159,
   "metadata": {
    "collapsed": false
   },
   "outputs": [
    {
     "name": "stdout",
     "output_type": "stream",
     "text": [
      "MannwhitneyuResult(statistic=95786286.5, pvalue=1.2255485818223303e-189)\n"
     ]
    }
   ],
   "source": [
    "from collections import namedtuple\n",
    "MannwhitneyuResult = namedtuple('MannwhitneyuResult', ('statistic', 'pvalue'))\n",
    "def tiecorrect(rankvals):\n",
    "    arr = np.sort(rankvals)\n",
    "    idx = np.nonzero(np.r_[True, arr[1:] != arr[:-1], True])[0]\n",
    "    cnt = np.diff(idx).astype(np.float64)\n",
    "    size = np.float64(arr.size)\n",
    "    return 1.0 if size < 2 else 1.0 - (cnt**3 - cnt).sum() / (size**3 - size)\n",
    "\n",
    "def mannwhitneyu(x, y, use_continuity=True, alternative=None):\n",
    "    if alternative is None:\n",
    "        warnings.warn(\"Calling `mannwhitneyu` without specifying \"\n",
    "                      \"`alternative` is deprecated.\", DeprecationWarning)\n",
    "\n",
    "    x = np.asarray(x)\n",
    "    y = np.asarray(y)\n",
    "    n1 = len(x)\n",
    "    n2 = len(y)\n",
    "    ranked = scipy.stats.rankdata(np.concatenate((x, y)))\n",
    "    rankx = ranked[0:n1]  # get the x-ranks\n",
    "    u1 = n1*n2 + (n1*(n1+1))/2.0 - np.sum(rankx, axis=0)  # calc U for x\n",
    "    u2 = n1*n2 - u1  # remainder is U for y\n",
    "    T = tiecorrect(ranked)\n",
    "    if T == 0:\n",
    "        raise ValueError('All numbers are identical in mannwhitneyu')\n",
    "    sd = np.sqrt(T * n1 * n2 * (n1+n2+1) / 12.0)\n",
    "\n",
    "    meanrank = n1*n2/2.0 + 0.5 * use_continuity\n",
    "    if alternative is None or alternative == 'two-sided':\n",
    "        bigu = max(u1, u2)\n",
    "    elif alternative == 'less':\n",
    "        bigu = u1\n",
    "    elif alternative == 'greater':\n",
    "        bigu = u2\n",
    "    else:\n",
    "        raise ValueError(\"alternative should be None, 'less', 'greater' \"\n",
    "                         \"or 'two-sided'\")\n",
    "    z = (bigu - meanrank) / sd\n",
    "    if alternative is None:\n",
    "        # This behavior, equal to half the size of the two-sided\n",
    "        # p-value, is deprecated.\n",
    "        p = scipy.stats.distributions.norm.sf(abs(z))\n",
    "    elif alternative == 'two-sided':\n",
    "        p = 2 * scipy.stats.distributions.norm.sf(abs(z))\n",
    "    else:\n",
    "        p = scipy.stats.distributions.norm.sf(z)\n",
    "    u = u2\n",
    "    # This behavior is deprecated.\n",
    "    if alternative is None:\n",
    "        u = min(u1, u2)\n",
    "    return MannwhitneyuResult(u, p)\n",
    "\n",
    "print mannwhitneyu(data_def0.LIMIT_BAL.values, data_def1.LIMIT_BAL.values, alternative='two-sided')"
   ]
  },
  {
   "cell_type": "markdown",
   "metadata": {},
   "source": [
    "# Ответ: \n",
    "Полученное значение P-value с помощью книтерия Манна-Уитни дает право с уверенностью отвергнуть нулевую гипотезу о том, что два распределения являются потомками одной генеральной совокупности. Аналитикам банка следует осторожнее относиться к должникам и учитывать их при построении своих финансовых моделей.\n"
   ]
  },
  {
   "cell_type": "markdown",
   "metadata": {},
   "source": [
    "# Задание 2\n",
    "Пол (SEX): Проверьте гипотезу о том, что гендерный состав группы людей вернувших и не вернувших кредит отличается. Хорошо, если вы предоставите несколько различных решений этой задачи (с помощью доверительного интервала и подходящего статистического критерия)"
   ]
  },
  {
   "cell_type": "code",
   "execution_count": 160,
   "metadata": {
    "collapsed": true
   },
   "outputs": [],
   "source": [
    "male_default = data[data.SEX==1].default\n",
    "female_default = data[data.SEX==2].default"
   ]
  },
  {
   "cell_type": "code",
   "execution_count": 161,
   "metadata": {
    "collapsed": false
   },
   "outputs": [
    {
     "data": {
      "text/plain": [
       "0.2416722745625841"
      ]
     },
     "execution_count": 161,
     "metadata": {},
     "output_type": "execute_result"
    }
   ],
   "source": [
    "float (sum(male_default.values))/male_default.values.shape[0]"
   ]
  },
  {
   "cell_type": "code",
   "execution_count": 162,
   "metadata": {
    "collapsed": false
   },
   "outputs": [
    {
     "data": {
      "text/plain": [
       "0.20776280918727916"
      ]
     },
     "execution_count": 162,
     "metadata": {},
     "output_type": "execute_result"
    }
   ],
   "source": [
    "float (sum(female_default.values))/female_default.values.shape[0]"
   ]
  },
  {
   "cell_type": "markdown",
   "metadata": {},
   "source": [
    "Получается, что вероятность невозрата кредита для мужчины оказывается выше, чем веоятность невозрата кредита для женщины. Давайте разберемся, наскоколько этот результат статистически значим"
   ]
  },
  {
   "cell_type": "markdown",
   "metadata": {},
   "source": [
    "## Оценим интервально доли веротятности дефолта для мужчин и женщин"
   ]
  },
  {
   "cell_type": "code",
   "execution_count": 163,
   "metadata": {
    "collapsed": false
   },
   "outputs": [
    {
     "name": "stdout",
     "output_type": "stream",
     "text": [
      "95% confidence interval of probability for Men,  who did not return loans: [0.234061, 0.249450]\n",
      "95% confidence interval of probability for Women,  who did not return loans: [0.201917, 0.213733]\n"
     ]
    }
   ],
   "source": [
    "print '95%% confidence interval of probability for Men,  who did not return loans: [%f, %f]' % proportion_confint(male_default.sum(), \n",
    "                                            male_default.shape[0],\n",
    "                                            method = 'wilson')\n",
    "print '95%% confidence interval of probability for Women,  who did not return loans: [%f, %f]' % proportion_confint(female_default.sum(), \n",
    "                                            female_default.shape[0],\n",
    "                                            method = 'wilson')"
   ]
  },
  {
   "cell_type": "markdown",
   "metadata": {},
   "source": [
    "### Получились непересекающиеся интервалы для долей. Убедимся в статистической значимости различия. Воспользуемся  Z-критерием для разности долей двух независимых выборок"
   ]
  },
  {
   "cell_type": "code",
   "execution_count": 164,
   "metadata": {
    "collapsed": true
   },
   "outputs": [],
   "source": [
    "def proportions_diff_confint_ind(sample1, sample2, alpha = 0.05):    \n",
    "    z = scipy.stats.norm.ppf(1 - alpha / 2.)\n",
    "    \n",
    "    p1 = float(sum(sample1)) / len(sample1)\n",
    "    p2 = float(sum(sample2)) / len(sample2)\n",
    "    \n",
    "    left_boundary = (p1 - p2) - z * np.sqrt(p1 * (1 - p1)/ len(sample1) + p2 * (1 - p2)/ len(sample2))\n",
    "    right_boundary = (p1 - p2) + z * np.sqrt(p1 * (1 - p1)/ len(sample1) + p2 * (1 - p2)/ len(sample2))\n",
    "    \n",
    "    return (left_boundary, right_boundary)\n",
    "\n",
    "def proportions_diff_z_stat_ind(sample1, sample2):\n",
    "    n1 = len(sample1)\n",
    "    n2 = len(sample2)\n",
    "    \n",
    "    p1 = float(sum(sample1)) / n1\n",
    "    p2 = float(sum(sample2)) / n2 \n",
    "    P = float(p1*n1 + p2*n2) / (n1 + n2)\n",
    "    \n",
    "    return (p1 - p2) / np.sqrt(P * (1 - P) * (1. / n1 + 1. / n2))\n",
    "\n",
    "def proportions_diff_z_test(z_stat, alternative = 'two-sided'):\n",
    "    if alternative not in ('two-sided', 'less', 'greater'):\n",
    "        raise ValueError(\"alternative not recognized\\n\"\n",
    "                         \"should be 'two-sided', 'less' or 'greater'\")\n",
    "    \n",
    "    if alternative == 'two-sided':\n",
    "        return 2 * (1 - scipy.stats.norm.cdf(np.abs(z_stat)))\n",
    "    \n",
    "    if alternative == 'less':\n",
    "        return scipy.stats.norm.cdf(z_stat)\n",
    "\n",
    "    if alternative == 'greater':\n",
    "        return 1 - scipy.stats.norm.cdf(z_stat)"
   ]
  },
  {
   "cell_type": "code",
   "execution_count": 165,
   "metadata": {
    "collapsed": false
   },
   "outputs": [
    {
     "name": "stdout",
     "output_type": "stream",
     "text": [
      "95% confidence interval for a difference between proportions: [0.024207, 0.043612]\n",
      "p-value: 4.472867e-12\n"
     ]
    }
   ],
   "source": [
    "print (\"95%% confidence interval for a difference between proportions: [%f, %f]\" %\\\n",
    "      proportions_diff_confint_ind(male_default.values, female_default.values))\n",
    "print (\"p-value: %e\" % proportions_diff_z_test(proportions_diff_z_stat_ind(male_default.values, female_default.values)))"
   ]
  },
  {
   "cell_type": "markdown",
   "metadata": {},
   "source": [
    "## Ответ:\n",
    "Полученный доверительный интервал для разности долей, а также p-value дают возможность с уверенностью отвергнуть нулевую гипотезу об одинаковости вероятности дефолта для мужчин и женщин. Полученный результат полезен для построения скоринговой модели."
   ]
  },
  {
   "cell_type": "markdown",
   "metadata": {},
   "source": [
    "# Задание 3\n",
    "\n",
    "Образование (EDUCATION): Проверьте гипотезу о том, что образование не влияет на то, вернет ли человек долг. Предложите способ наглядного представления разницы в ожидаемых и наблюдаемых значениях количества человек вернувших и не вернувших долг. Например, составьте таблицу сопряженности \"образование\" на \"возврат долга\", где значением ячейки была бы разность между наблюдаемым и ожидаемым количеством человек. Как бы вы предложили модифицировать таблицу так, чтобы привести значения ячеек к одному масштабу не потеряв в интерпретируемости ? Наличие какого образования является наилучшим индикатором того, что человек отдаст долг ? наоборт, не отдаст долг ?"
   ]
  },
  {
   "cell_type": "code",
   "execution_count": 166,
   "metadata": {
    "collapsed": false
   },
   "outputs": [
    {
     "data": {
      "text/plain": [
       "<matplotlib.text.Text at 0x60727668>"
      ]
     },
     "execution_count": 166,
     "metadata": {},
     "output_type": "execute_result"
    },
    {
     "data": {
      "image/png": "[encoded data removed]",
      "text/plain": [
       "<matplotlib.figure.Figure at 0x11206160>"
      ]
     },
     "metadata": {},
     "output_type": "display_data"
    }
   ],
   "source": [
    "education = [data[data.EDUCATION==i] for i in xrange(7)]\n",
    "\n",
    "x_names = ['doc', 'mast', 'bac', 'school.', 'elemt', 'oth', 'no data']\n",
    "position = np.arange(len(x_names))\n",
    "\n",
    "performance = [data[data.EDUCATION==i].default.mean() for i in xrange(7)]\n",
    " \n",
    "plt.bar(position, performance, color = 'r')\n",
    "plt.xticks(position , x_names)\n",
    "plt.ylabel('Probability of dedault')\n",
    "plt.title('Probability of default by education degree')"
   ]
  },
  {
   "cell_type": "markdown",
   "metadata": {},
   "source": [
    "## Ответ:\n",
    "Судя по данным, люди с докторской степенью чаще, чем другие отдают свои долги. Хуже всего отдают свои долги люди имеющие только школьное образование. \n"
   ]
  },
  {
   "cell_type": "markdown",
   "metadata": {},
   "source": [
    "Проверим, влияет ли на нашу целевую переменную default наличие образования у рассматриваемых людей. Применим критерий хи-квадрат для таблиц сопряженности на гипотезу о зависимости между образовинем и возратом кредита, против обратной альтернативы."
   ]
  },
  {
   "cell_type": "code",
   "execution_count": 167,
   "metadata": {
    "collapsed": false
   },
   "outputs": [
    {
     "name": "stdout",
     "output_type": "stream",
     "text": [
      "p-value: 1.233263e-32\n"
     ]
    }
   ],
   "source": [
    "contingency_table = np.zeros((7,2))\n",
    "\n",
    "for i in range(7):\n",
    "    contingency_table[i, 0] = np.sum(education[i].default==0)\n",
    "    contingency_table[i, 1] = np.sum(education[i].default==1)\n",
    "    \n",
    "chi2, pvalue, dof, ex = scipy.stats.chi2_contingency(contingency_table)    \n",
    "print (\"p-value: %e\" % pvalue)"
   ]
  },
  {
   "cell_type": "markdown",
   "metadata": {},
   "source": [
    "## Ответ:\n",
    "Нулевая гипотеза о независимости уверенно отвергается."
   ]
  },
  {
   "cell_type": "markdown",
   "metadata": {},
   "source": [
    "# Задание 4\n",
    "Семейное положение (MARRIAGE): Проверьте, как связан семейный статус с индикатором дефолта: нужно предложить меру, по которой можно измерить возможную связь этих переменных и посчитать ее значение."
   ]
  },
  {
   "cell_type": "code",
   "execution_count": 168,
   "metadata": {
    "collapsed": false
   },
   "outputs": [
    {
     "name": "stdout",
     "output_type": "stream",
     "text": [
      "p-value: 8.825862e-08\n",
      "V Cramer 3.447820e-02\n"
     ]
    }
   ],
   "source": [
    "mariage = [data[data.MARRIAGE==i] for i in range(4)]\n",
    "\n",
    "contingency_table = np.zeros((4,2))\n",
    "\n",
    "for i in range(4):\n",
    "    contingency_table[i, 0] = np.sum(mariage[i].default==0)\n",
    "    contingency_table[i, 1] = np.sum(mariage[i].default==1)\n",
    "    \n",
    "chi2, pvalue, dof, ex = scipy.stats.chi2_contingency(contingency_table)    \n",
    "print (\"p-value: %e\" % pvalue)\n",
    "print('V Cramer %e' % np.sqrt(chi2/(np.sum(contingency_table)*min(contingency_table.shape[0]-1, contingency_table.shape[1]-1))))"
   ]
  },
  {
   "cell_type": "markdown",
   "metadata": {},
   "source": [
    "## Ответ:\n",
    "Нулевая гипотеза о независимости вероятности возрата кредита и статуса семейного положения уверенно отвергается. Мерой этой связи является абсолютное значение коэффициента V Крамера"
   ]
  },
  {
   "cell_type": "markdown",
   "metadata": {},
   "source": [
    "# Задание 5"
   ]
  },
  {
   "cell_type": "markdown",
   "metadata": {},
   "source": [
    "Возраст (AGE): Относительно двух групп людей вернувших и не вернувших кредит проверьте следующие гипотезы: a) о равенстве медианных значений возрастов людей b) о равенстве распределений с помощью одного из подходящих непараметрических критериев проверки равенства средних. Значимы ли полученные результаты с практической точки зрения ?"
   ]
  },
  {
   "cell_type": "code",
   "execution_count": 169,
   "metadata": {
    "collapsed": false
   },
   "outputs": [],
   "source": [
    "#Разделим данные на тех кто вернул деньги и на тех, кто - нет\n",
    "data_def0 = data[data.default==0]\n",
    "data_def1 = data[data.default==1]"
   ]
  },
  {
   "cell_type": "markdown",
   "metadata": {},
   "source": [
    "Построим гистограммы для признака AGE в выборках кто вернул кредит (default = 0) и тех, кто его не вернул (default = 1). А также расчитаем медианы распределений и значимость этого результата"
   ]
  },
  {
   "cell_type": "code",
   "execution_count": 172,
   "metadata": {
    "collapsed": false
   },
   "outputs": [
    {
     "data": {
      "text/plain": [
       "<matplotlib.legend.Legend at 0x4fcfd400>"
      ]
     },
     "execution_count": 172,
     "metadata": {},
     "output_type": "execute_result"
    },
    {
     "data": {
      "image/png": "[encoded data removed]",
      "text/plain": [
       "<matplotlib.figure.Figure at 0x1c9a4978>"
      ]
     },
     "metadata": {},
     "output_type": "display_data"
    }
   ],
   "source": [
    "plt.figure(figsize=(15,5))\n",
    "\n",
    "plt.subplot(1,2,1)\n",
    "plt.hist(data_def0.AGE , label='$Median_{default=0} = %i$'%data_def0.AGE.median())\n",
    "plt.xlabel('AGE, default==0')\n",
    "plt.ylabel('Number')\n",
    "plt.legend(loc='best')\n",
    "\n",
    "\n",
    "\n",
    "plt.subplot(1,2,2)\n",
    "plt.hist(data_def1.AGE, label='$Median_{default=1} = %i$'%data_def1.AGE.median())\n",
    "plt.xlabel('AGE, default==1')\n",
    "plt.legend(loc='best')"
   ]
  },
  {
   "cell_type": "markdown",
   "metadata": {
    "collapsed": true
   },
   "source": [
    "Построим доверительные интервалы для медиан и разностей наших выборок бутстрепом"
   ]
  },
  {
   "cell_type": "code",
   "execution_count": 173,
   "metadata": {
    "collapsed": false
   },
   "outputs": [
    {
     "name": "stdout",
     "output_type": "stream",
     "text": [
      "('95% confidence interval for AGE default=0 median:', array([ 34.,  34.]))\n",
      "('95% confidence interval for AGE default=1 median:', array([ 34.,  35.]))\n",
      "('95% confidence interval for AGE difference median:', array([-1.,  0.]))\n"
     ]
    }
   ],
   "source": [
    "def0_medians = np.median(get_bootstrap_samples(data_def0.AGE.values, 2000), axis=1)\n",
    "def1_medians = np.median(get_bootstrap_samples(data_def1.AGE.values, 2000), axis=1)\n",
    "delta_median = map(lambda x: x[0] - x[1], zip(def0_medians, def1_medians))\n",
    "print (\"95% confidence interval for AGE default=0 median:\",  stat_intervals(def0_medians))\n",
    "print (\"95% confidence interval for AGE default=1 median:\",  stat_intervals(def1_medians))\n",
    "print (\"95% confidence interval for AGE difference median:\",  stat_intervals(delta_median))"
   ]
  },
  {
   "cell_type": "markdown",
   "metadata": {},
   "source": [
    "## Ответ:\n",
    "Из-за пересечения доверительных интервалов, нулевую гипотезу об одинаковости медианных значений отвергнуть нельзя. Проверим статистическую значимость нашего результата с помощью критерия Манна-Уитни о раверстве медиан против обратной альтернативы"
   ]
  },
  {
   "cell_type": "code",
   "execution_count": 174,
   "metadata": {
    "collapsed": false
   },
   "outputs": [
    {
     "name": "stdout",
     "output_type": "stream",
     "text": [
      "MannwhitneyuResult(statistic=76966879.5, pvalue=0.37250354348986159)\n"
     ]
    }
   ],
   "source": [
    "print mannwhitneyu(data_def0.AGE.values, data_def1.AGE.values, alternative='two-sided')"
   ]
  },
  {
   "cell_type": "markdown",
   "metadata": {},
   "source": [
    "## Ответ:\n",
    "Не можем отвергнуть нулевую гипотезу о равенстве медиан"
   ]
  }
 ],
 "metadata": {
  "kernelspec": {
   "display_name": "Python 2",
   "language": "python",
   "name": "python2"
  },
  "language_info": {
   "codemirror_mode": {
    "name": "ipython",
    "version": 2
   },
   "file_extension": ".py",
   "mimetype": "text/x-python",
   "name": "python",
   "nbconvert_exporter": "python",
   "pygments_lexer": "ipython2",
   "version": "2.7.11"
  }
 },
 "nbformat": 4,
 "nbformat_minor": 0
}
