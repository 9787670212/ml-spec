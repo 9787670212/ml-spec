{
 "cells": [
  {
   "cell_type": "markdown",
   "metadata": {},
   "source": [
    "# Задачи скоринга"
   ]
  },
  {
   "cell_type": "markdown",
   "metadata": {},
   "source": [
    "### <font color='blue'> Задание выполнено в Python 3.5.1"
   ]
  },
  {
   "cell_type": "code",
   "execution_count": 1,
   "metadata": {
    "collapsed": false
   },
   "outputs": [],
   "source": [
    "import pandas as pd\n",
    "import numpy as np\n",
    "from scipy import stats\n",
    "import itertools\n",
    "from statsmodels.stats.weightstats import _tconfint_generic\n",
    "\n",
    "import matplotlib.pyplot as plt\n",
    "%matplotlib inline"
   ]
  },
  {
   "cell_type": "markdown",
   "metadata": {},
   "source": [
    "** Подготовка данных **"
   ]
  },
  {
   "cell_type": "code",
   "execution_count": 2,
   "metadata": {
    "collapsed": true
   },
   "outputs": [],
   "source": [
    "data = pd.read_csv(\"credit_card_default_analysis.csv\")"
   ]
  },
  {
   "cell_type": "code",
   "execution_count": 3,
   "metadata": {
    "collapsed": false
   },
   "outputs": [
    {
     "data": {
      "text/html": [
       "<div>\n",
       "<table border=\"1\" class=\"dataframe\">\n",
       "  <thead>\n",
       "    <tr style=\"text-align: right;\">\n",
       "      <th></th>\n",
       "      <th>ID</th>\n",
       "      <th>LIMIT_BAL</th>\n",
       "      <th>SEX</th>\n",
       "      <th>EDUCATION</th>\n",
       "      <th>MARRIAGE</th>\n",
       "      <th>AGE</th>\n",
       "      <th>PAY_0</th>\n",
       "      <th>PAY_2</th>\n",
       "      <th>PAY_3</th>\n",
       "      <th>PAY_4</th>\n",
       "      <th>...</th>\n",
       "      <th>BILL_AMT4</th>\n",
       "      <th>BILL_AMT5</th>\n",
       "      <th>BILL_AMT6</th>\n",
       "      <th>PAY_AMT1</th>\n",
       "      <th>PAY_AMT2</th>\n",
       "      <th>PAY_AMT3</th>\n",
       "      <th>PAY_AMT4</th>\n",
       "      <th>PAY_AMT5</th>\n",
       "      <th>PAY_AMT6</th>\n",
       "      <th>default</th>\n",
       "    </tr>\n",
       "  </thead>\n",
       "  <tbody>\n",
       "    <tr>\n",
       "      <th>0</th>\n",
       "      <td>1</td>\n",
       "      <td>20000</td>\n",
       "      <td>2</td>\n",
       "      <td>2</td>\n",
       "      <td>1</td>\n",
       "      <td>24</td>\n",
       "      <td>2</td>\n",
       "      <td>2</td>\n",
       "      <td>0</td>\n",
       "      <td>0</td>\n",
       "      <td>...</td>\n",
       "      <td>0</td>\n",
       "      <td>0</td>\n",
       "      <td>0</td>\n",
       "      <td>0</td>\n",
       "      <td>689</td>\n",
       "      <td>0</td>\n",
       "      <td>0</td>\n",
       "      <td>0</td>\n",
       "      <td>0</td>\n",
       "      <td>1</td>\n",
       "    </tr>\n",
       "    <tr>\n",
       "      <th>1</th>\n",
       "      <td>2</td>\n",
       "      <td>120000</td>\n",
       "      <td>2</td>\n",
       "      <td>2</td>\n",
       "      <td>2</td>\n",
       "      <td>26</td>\n",
       "      <td>0</td>\n",
       "      <td>2</td>\n",
       "      <td>0</td>\n",
       "      <td>0</td>\n",
       "      <td>...</td>\n",
       "      <td>3272</td>\n",
       "      <td>3455</td>\n",
       "      <td>3261</td>\n",
       "      <td>0</td>\n",
       "      <td>1000</td>\n",
       "      <td>1000</td>\n",
       "      <td>1000</td>\n",
       "      <td>0</td>\n",
       "      <td>2000</td>\n",
       "      <td>1</td>\n",
       "    </tr>\n",
       "    <tr>\n",
       "      <th>2</th>\n",
       "      <td>3</td>\n",
       "      <td>90000</td>\n",
       "      <td>2</td>\n",
       "      <td>2</td>\n",
       "      <td>2</td>\n",
       "      <td>34</td>\n",
       "      <td>0</td>\n",
       "      <td>0</td>\n",
       "      <td>0</td>\n",
       "      <td>0</td>\n",
       "      <td>...</td>\n",
       "      <td>14331</td>\n",
       "      <td>14948</td>\n",
       "      <td>15549</td>\n",
       "      <td>1518</td>\n",
       "      <td>1500</td>\n",
       "      <td>1000</td>\n",
       "      <td>1000</td>\n",
       "      <td>1000</td>\n",
       "      <td>5000</td>\n",
       "      <td>0</td>\n",
       "    </tr>\n",
       "    <tr>\n",
       "      <th>3</th>\n",
       "      <td>4</td>\n",
       "      <td>50000</td>\n",
       "      <td>2</td>\n",
       "      <td>2</td>\n",
       "      <td>1</td>\n",
       "      <td>37</td>\n",
       "      <td>0</td>\n",
       "      <td>0</td>\n",
       "      <td>0</td>\n",
       "      <td>0</td>\n",
       "      <td>...</td>\n",
       "      <td>28314</td>\n",
       "      <td>28959</td>\n",
       "      <td>29547</td>\n",
       "      <td>2000</td>\n",
       "      <td>2019</td>\n",
       "      <td>1200</td>\n",
       "      <td>1100</td>\n",
       "      <td>1069</td>\n",
       "      <td>1000</td>\n",
       "      <td>0</td>\n",
       "    </tr>\n",
       "    <tr>\n",
       "      <th>4</th>\n",
       "      <td>5</td>\n",
       "      <td>50000</td>\n",
       "      <td>1</td>\n",
       "      <td>2</td>\n",
       "      <td>1</td>\n",
       "      <td>57</td>\n",
       "      <td>0</td>\n",
       "      <td>0</td>\n",
       "      <td>0</td>\n",
       "      <td>0</td>\n",
       "      <td>...</td>\n",
       "      <td>20940</td>\n",
       "      <td>19146</td>\n",
       "      <td>19131</td>\n",
       "      <td>2000</td>\n",
       "      <td>36681</td>\n",
       "      <td>10000</td>\n",
       "      <td>9000</td>\n",
       "      <td>689</td>\n",
       "      <td>679</td>\n",
       "      <td>0</td>\n",
       "    </tr>\n",
       "  </tbody>\n",
       "</table>\n",
       "<p>5 rows × 25 columns</p>\n",
       "</div>"
      ],
      "text/plain": [
       "   ID  LIMIT_BAL  SEX  EDUCATION  MARRIAGE  AGE  PAY_0  PAY_2  PAY_3  PAY_4  \\\n",
       "0   1      20000    2          2         1   24      2      2      0      0   \n",
       "1   2     120000    2          2         2   26      0      2      0      0   \n",
       "2   3      90000    2          2         2   34      0      0      0      0   \n",
       "3   4      50000    2          2         1   37      0      0      0      0   \n",
       "4   5      50000    1          2         1   57      0      0      0      0   \n",
       "\n",
       "    ...     BILL_AMT4  BILL_AMT5  BILL_AMT6  PAY_AMT1  PAY_AMT2  PAY_AMT3  \\\n",
       "0   ...             0          0          0         0       689         0   \n",
       "1   ...          3272       3455       3261         0      1000      1000   \n",
       "2   ...         14331      14948      15549      1518      1500      1000   \n",
       "3   ...         28314      28959      29547      2000      2019      1200   \n",
       "4   ...         20940      19146      19131      2000     36681     10000   \n",
       "\n",
       "   PAY_AMT4  PAY_AMT5  PAY_AMT6  default  \n",
       "0         0         0         0        1  \n",
       "1      1000         0      2000        1  \n",
       "2      1000      1000      5000        0  \n",
       "3      1100      1069      1000        0  \n",
       "4      9000       689       679        0  \n",
       "\n",
       "[5 rows x 25 columns]"
      ]
     },
     "execution_count": 3,
     "metadata": {},
     "output_type": "execute_result"
    }
   ],
   "source": [
    "data.head()"
   ]
  },
  {
   "cell_type": "code",
   "execution_count": 4,
   "metadata": {
    "collapsed": false
   },
   "outputs": [
    {
     "data": {
      "text/html": [
       "<div>\n",
       "<table border=\"1\" class=\"dataframe\">\n",
       "  <thead>\n",
       "    <tr style=\"text-align: right;\">\n",
       "      <th></th>\n",
       "      <th>ID</th>\n",
       "      <th>LIMIT_BAL</th>\n",
       "      <th>SEX</th>\n",
       "      <th>EDUCATION</th>\n",
       "      <th>MARRIAGE</th>\n",
       "      <th>AGE</th>\n",
       "      <th>PAY_0</th>\n",
       "      <th>PAY_2</th>\n",
       "      <th>PAY_3</th>\n",
       "      <th>PAY_4</th>\n",
       "      <th>...</th>\n",
       "      <th>BILL_AMT4</th>\n",
       "      <th>BILL_AMT5</th>\n",
       "      <th>BILL_AMT6</th>\n",
       "      <th>PAY_AMT1</th>\n",
       "      <th>PAY_AMT2</th>\n",
       "      <th>PAY_AMT3</th>\n",
       "      <th>PAY_AMT4</th>\n",
       "      <th>PAY_AMT5</th>\n",
       "      <th>PAY_AMT6</th>\n",
       "      <th>default</th>\n",
       "    </tr>\n",
       "  </thead>\n",
       "  <tbody>\n",
       "    <tr>\n",
       "      <th>count</th>\n",
       "      <td>30000.000000</td>\n",
       "      <td>30000.000000</td>\n",
       "      <td>30000.000000</td>\n",
       "      <td>30000.000000</td>\n",
       "      <td>30000.000000</td>\n",
       "      <td>30000.000000</td>\n",
       "      <td>30000.000000</td>\n",
       "      <td>30000.000000</td>\n",
       "      <td>30000.000000</td>\n",
       "      <td>30000.000000</td>\n",
       "      <td>...</td>\n",
       "      <td>30000.000000</td>\n",
       "      <td>30000.000000</td>\n",
       "      <td>30000.000000</td>\n",
       "      <td>30000.000000</td>\n",
       "      <td>3.000000e+04</td>\n",
       "      <td>30000.00000</td>\n",
       "      <td>30000.000000</td>\n",
       "      <td>30000.000000</td>\n",
       "      <td>30000.000000</td>\n",
       "      <td>30000.000000</td>\n",
       "    </tr>\n",
       "    <tr>\n",
       "      <th>mean</th>\n",
       "      <td>15000.500000</td>\n",
       "      <td>167484.322667</td>\n",
       "      <td>1.603733</td>\n",
       "      <td>1.853133</td>\n",
       "      <td>1.551867</td>\n",
       "      <td>35.485500</td>\n",
       "      <td>0.356767</td>\n",
       "      <td>0.320033</td>\n",
       "      <td>0.304067</td>\n",
       "      <td>0.258767</td>\n",
       "      <td>...</td>\n",
       "      <td>43262.948967</td>\n",
       "      <td>40311.400967</td>\n",
       "      <td>38871.760400</td>\n",
       "      <td>5663.580500</td>\n",
       "      <td>5.921163e+03</td>\n",
       "      <td>5225.68150</td>\n",
       "      <td>4826.076867</td>\n",
       "      <td>4799.387633</td>\n",
       "      <td>5215.502567</td>\n",
       "      <td>0.221200</td>\n",
       "    </tr>\n",
       "    <tr>\n",
       "      <th>std</th>\n",
       "      <td>8660.398374</td>\n",
       "      <td>129747.661567</td>\n",
       "      <td>0.489129</td>\n",
       "      <td>0.790349</td>\n",
       "      <td>0.521970</td>\n",
       "      <td>9.217904</td>\n",
       "      <td>0.760594</td>\n",
       "      <td>0.801727</td>\n",
       "      <td>0.790589</td>\n",
       "      <td>0.761113</td>\n",
       "      <td>...</td>\n",
       "      <td>64332.856134</td>\n",
       "      <td>60797.155770</td>\n",
       "      <td>59554.107537</td>\n",
       "      <td>16563.280354</td>\n",
       "      <td>2.304087e+04</td>\n",
       "      <td>17606.96147</td>\n",
       "      <td>15666.159744</td>\n",
       "      <td>15278.305679</td>\n",
       "      <td>17777.465775</td>\n",
       "      <td>0.415062</td>\n",
       "    </tr>\n",
       "    <tr>\n",
       "      <th>min</th>\n",
       "      <td>1.000000</td>\n",
       "      <td>10000.000000</td>\n",
       "      <td>1.000000</td>\n",
       "      <td>0.000000</td>\n",
       "      <td>0.000000</td>\n",
       "      <td>21.000000</td>\n",
       "      <td>0.000000</td>\n",
       "      <td>0.000000</td>\n",
       "      <td>0.000000</td>\n",
       "      <td>0.000000</td>\n",
       "      <td>...</td>\n",
       "      <td>-170000.000000</td>\n",
       "      <td>-81334.000000</td>\n",
       "      <td>-339603.000000</td>\n",
       "      <td>0.000000</td>\n",
       "      <td>0.000000e+00</td>\n",
       "      <td>0.00000</td>\n",
       "      <td>0.000000</td>\n",
       "      <td>0.000000</td>\n",
       "      <td>0.000000</td>\n",
       "      <td>0.000000</td>\n",
       "    </tr>\n",
       "    <tr>\n",
       "      <th>25%</th>\n",
       "      <td>7500.750000</td>\n",
       "      <td>50000.000000</td>\n",
       "      <td>1.000000</td>\n",
       "      <td>1.000000</td>\n",
       "      <td>1.000000</td>\n",
       "      <td>28.000000</td>\n",
       "      <td>0.000000</td>\n",
       "      <td>0.000000</td>\n",
       "      <td>0.000000</td>\n",
       "      <td>0.000000</td>\n",
       "      <td>...</td>\n",
       "      <td>2326.750000</td>\n",
       "      <td>1763.000000</td>\n",
       "      <td>1256.000000</td>\n",
       "      <td>1000.000000</td>\n",
       "      <td>8.330000e+02</td>\n",
       "      <td>390.00000</td>\n",
       "      <td>296.000000</td>\n",
       "      <td>252.500000</td>\n",
       "      <td>117.750000</td>\n",
       "      <td>0.000000</td>\n",
       "    </tr>\n",
       "    <tr>\n",
       "      <th>50%</th>\n",
       "      <td>15000.500000</td>\n",
       "      <td>140000.000000</td>\n",
       "      <td>2.000000</td>\n",
       "      <td>2.000000</td>\n",
       "      <td>2.000000</td>\n",
       "      <td>34.000000</td>\n",
       "      <td>0.000000</td>\n",
       "      <td>0.000000</td>\n",
       "      <td>0.000000</td>\n",
       "      <td>0.000000</td>\n",
       "      <td>...</td>\n",
       "      <td>19052.000000</td>\n",
       "      <td>18104.500000</td>\n",
       "      <td>17071.000000</td>\n",
       "      <td>2100.000000</td>\n",
       "      <td>2.009000e+03</td>\n",
       "      <td>1800.00000</td>\n",
       "      <td>1500.000000</td>\n",
       "      <td>1500.000000</td>\n",
       "      <td>1500.000000</td>\n",
       "      <td>0.000000</td>\n",
       "    </tr>\n",
       "    <tr>\n",
       "      <th>75%</th>\n",
       "      <td>22500.250000</td>\n",
       "      <td>240000.000000</td>\n",
       "      <td>2.000000</td>\n",
       "      <td>2.000000</td>\n",
       "      <td>2.000000</td>\n",
       "      <td>41.000000</td>\n",
       "      <td>0.000000</td>\n",
       "      <td>0.000000</td>\n",
       "      <td>0.000000</td>\n",
       "      <td>0.000000</td>\n",
       "      <td>...</td>\n",
       "      <td>54506.000000</td>\n",
       "      <td>50190.500000</td>\n",
       "      <td>49198.250000</td>\n",
       "      <td>5006.000000</td>\n",
       "      <td>5.000000e+03</td>\n",
       "      <td>4505.00000</td>\n",
       "      <td>4013.250000</td>\n",
       "      <td>4031.500000</td>\n",
       "      <td>4000.000000</td>\n",
       "      <td>0.000000</td>\n",
       "    </tr>\n",
       "    <tr>\n",
       "      <th>max</th>\n",
       "      <td>30000.000000</td>\n",
       "      <td>1000000.000000</td>\n",
       "      <td>2.000000</td>\n",
       "      <td>6.000000</td>\n",
       "      <td>3.000000</td>\n",
       "      <td>79.000000</td>\n",
       "      <td>8.000000</td>\n",
       "      <td>8.000000</td>\n",
       "      <td>8.000000</td>\n",
       "      <td>8.000000</td>\n",
       "      <td>...</td>\n",
       "      <td>891586.000000</td>\n",
       "      <td>927171.000000</td>\n",
       "      <td>961664.000000</td>\n",
       "      <td>873552.000000</td>\n",
       "      <td>1.684259e+06</td>\n",
       "      <td>896040.00000</td>\n",
       "      <td>621000.000000</td>\n",
       "      <td>426529.000000</td>\n",
       "      <td>528666.000000</td>\n",
       "      <td>1.000000</td>\n",
       "    </tr>\n",
       "  </tbody>\n",
       "</table>\n",
       "<p>8 rows × 25 columns</p>\n",
       "</div>"
      ],
      "text/plain": [
       "                 ID       LIMIT_BAL           SEX     EDUCATION      MARRIAGE  \\\n",
       "count  30000.000000    30000.000000  30000.000000  30000.000000  30000.000000   \n",
       "mean   15000.500000   167484.322667      1.603733      1.853133      1.551867   \n",
       "std     8660.398374   129747.661567      0.489129      0.790349      0.521970   \n",
       "min        1.000000    10000.000000      1.000000      0.000000      0.000000   \n",
       "25%     7500.750000    50000.000000      1.000000      1.000000      1.000000   \n",
       "50%    15000.500000   140000.000000      2.000000      2.000000      2.000000   \n",
       "75%    22500.250000   240000.000000      2.000000      2.000000      2.000000   \n",
       "max    30000.000000  1000000.000000      2.000000      6.000000      3.000000   \n",
       "\n",
       "                AGE         PAY_0         PAY_2         PAY_3         PAY_4  \\\n",
       "count  30000.000000  30000.000000  30000.000000  30000.000000  30000.000000   \n",
       "mean      35.485500      0.356767      0.320033      0.304067      0.258767   \n",
       "std        9.217904      0.760594      0.801727      0.790589      0.761113   \n",
       "min       21.000000      0.000000      0.000000      0.000000      0.000000   \n",
       "25%       28.000000      0.000000      0.000000      0.000000      0.000000   \n",
       "50%       34.000000      0.000000      0.000000      0.000000      0.000000   \n",
       "75%       41.000000      0.000000      0.000000      0.000000      0.000000   \n",
       "max       79.000000      8.000000      8.000000      8.000000      8.000000   \n",
       "\n",
       "           ...           BILL_AMT4      BILL_AMT5      BILL_AMT6  \\\n",
       "count      ...        30000.000000   30000.000000   30000.000000   \n",
       "mean       ...        43262.948967   40311.400967   38871.760400   \n",
       "std        ...        64332.856134   60797.155770   59554.107537   \n",
       "min        ...      -170000.000000  -81334.000000 -339603.000000   \n",
       "25%        ...         2326.750000    1763.000000    1256.000000   \n",
       "50%        ...        19052.000000   18104.500000   17071.000000   \n",
       "75%        ...        54506.000000   50190.500000   49198.250000   \n",
       "max        ...       891586.000000  927171.000000  961664.000000   \n",
       "\n",
       "            PAY_AMT1      PAY_AMT2      PAY_AMT3       PAY_AMT4  \\\n",
       "count   30000.000000  3.000000e+04   30000.00000   30000.000000   \n",
       "mean     5663.580500  5.921163e+03    5225.68150    4826.076867   \n",
       "std     16563.280354  2.304087e+04   17606.96147   15666.159744   \n",
       "min         0.000000  0.000000e+00       0.00000       0.000000   \n",
       "25%      1000.000000  8.330000e+02     390.00000     296.000000   \n",
       "50%      2100.000000  2.009000e+03    1800.00000    1500.000000   \n",
       "75%      5006.000000  5.000000e+03    4505.00000    4013.250000   \n",
       "max    873552.000000  1.684259e+06  896040.00000  621000.000000   \n",
       "\n",
       "            PAY_AMT5       PAY_AMT6       default  \n",
       "count   30000.000000   30000.000000  30000.000000  \n",
       "mean     4799.387633    5215.502567      0.221200  \n",
       "std     15278.305679   17777.465775      0.415062  \n",
       "min         0.000000       0.000000      0.000000  \n",
       "25%       252.500000     117.750000      0.000000  \n",
       "50%      1500.000000    1500.000000      0.000000  \n",
       "75%      4031.500000    4000.000000      0.000000  \n",
       "max    426529.000000  528666.000000      1.000000  \n",
       "\n",
       "[8 rows x 25 columns]"
      ]
     },
     "execution_count": 4,
     "metadata": {},
     "output_type": "execute_result"
    }
   ],
   "source": [
    "data.describe()"
   ]
  },
  {
   "cell_type": "code",
   "execution_count": 5,
   "metadata": {
    "collapsed": false
   },
   "outputs": [
    {
     "data": {
      "image/png": "[encoded data removed]",
      "text/plain": [
       "<matplotlib.figure.Figure at 0x108dc9978>"
      ]
     },
     "metadata": {},
     "output_type": "display_data"
    }
   ],
   "source": [
    "credit_counts = data['default'].value_counts()\n",
    "\n",
    "credit_counts.plot(kind='bar', color='gr', grid=True, rot=0)\n",
    "for i, v in enumerate(credit_counts.values):\n",
    "    plt.text(i, v + 300, str(v))\n",
    "plt.xlabel(\"default\")\n",
    "plt.ylabel(\"Number of credits\")\n",
    "plt.title(\"The number of credits depending on the default\")\n",
    "plt.show()"
   ]
  },
  {
   "cell_type": "code",
   "execution_count": 6,
   "metadata": {
    "collapsed": true
   },
   "outputs": [],
   "source": [
    "alpha = 0.05  # уровень значимости"
   ]
  },
  {
   "cell_type": "markdown",
   "metadata": {},
   "source": [
    "## Задание 1"
   ]
  },
  {
   "cell_type": "markdown",
   "metadata": {},
   "source": [
    "** Постановка задачи **"
   ]
  },
  {
   "cell_type": "markdown",
   "metadata": {},
   "source": [
    "Размер кредитного лимита (LIMIT_BAL). В двух группах, тех людей, кто вернул кредит (default = 0) и тех, кто его не вернул (default = 1) проверьте гипотезы: <br />\n",
    "a) о равенстве медианных значений кредитного лимита с помощью подходящей интервальной оценки <br />\n",
    "b) о равенстве распределений с помощью одного из подходящих непараметрических критериев проверки равенства средних. <br />\n",
    "Значимы ли полученные результаты с практической точки зрения ?\n",
    "\n",
    "LIMIT_BAL: размер кредитного лимита (в том числе и на семью клиента)"
   ]
  },
  {
   "cell_type": "markdown",
   "metadata": {},
   "source": [
    "** Решение **"
   ]
  },
  {
   "cell_type": "markdown",
   "metadata": {},
   "source": [
    "Построим для каждой группы (возврат/невозврат) гистаграммы распределения количества выданных кредитов в зависимости от кредитного лимита"
   ]
  },
  {
   "cell_type": "code",
   "execution_count": 7,
   "metadata": {
    "collapsed": false
   },
   "outputs": [
    {
     "data": {
      "text/html": [
       "<div>\n",
       "<table border=\"1\" class=\"dataframe\">\n",
       "  <thead>\n",
       "    <tr style=\"text-align: right;\">\n",
       "      <th>default</th>\n",
       "      <th>0</th>\n",
       "      <th>1</th>\n",
       "    </tr>\n",
       "  </thead>\n",
       "  <tbody>\n",
       "    <tr>\n",
       "      <th>0</th>\n",
       "      <td>NaN</td>\n",
       "      <td>20000.0</td>\n",
       "    </tr>\n",
       "    <tr>\n",
       "      <th>1</th>\n",
       "      <td>NaN</td>\n",
       "      <td>120000.0</td>\n",
       "    </tr>\n",
       "    <tr>\n",
       "      <th>2</th>\n",
       "      <td>90000.0</td>\n",
       "      <td>NaN</td>\n",
       "    </tr>\n",
       "    <tr>\n",
       "      <th>3</th>\n",
       "      <td>50000.0</td>\n",
       "      <td>NaN</td>\n",
       "    </tr>\n",
       "    <tr>\n",
       "      <th>4</th>\n",
       "      <td>50000.0</td>\n",
       "      <td>NaN</td>\n",
       "    </tr>\n",
       "  </tbody>\n",
       "</table>\n",
       "</div>"
      ],
      "text/plain": [
       "default        0         1\n",
       "0            NaN   20000.0\n",
       "1            NaN  120000.0\n",
       "2        90000.0       NaN\n",
       "3        50000.0       NaN\n",
       "4        50000.0       NaN"
      ]
     },
     "execution_count": 7,
     "metadata": {},
     "output_type": "execute_result"
    }
   ],
   "source": [
    "pv_limit_bal = data.pivot(values='LIMIT_BAL', columns='default')\n",
    "pv_limit_bal.head()"
   ]
  },
  {
   "cell_type": "code",
   "execution_count": 8,
   "metadata": {
    "collapsed": false
   },
   "outputs": [
    {
     "data": {
      "image/png": "[encoded data removed]",
      "text/plain": [
       "<matplotlib.figure.Figure at 0x108a93e80>"
      ]
     },
     "metadata": {},
     "output_type": "display_data"
    }
   ],
   "source": [
    "pv_limit_bal.plot.hist(stacked=True, color='rg')\n",
    "plt.xlabel(\"Limit balance\")\n",
    "plt.ylabel(\"Number of credits\")\n",
    "plt.title(\"The number of credits depending on limit balance\")\n",
    "plt.grid()\n",
    "plt.show()"
   ]
  },
  {
   "cell_type": "code",
   "execution_count": 9,
   "metadata": {
    "collapsed": false
   },
   "outputs": [
    {
     "data": {
      "image/png": "[encoded data removed]",
      "text/plain": [
       "<matplotlib.figure.Figure at 0x10c2426d8>"
      ]
     },
     "metadata": {},
     "output_type": "display_data"
    }
   ],
   "source": [
    "pv_limit_bal.plot.box(vert=False)\n",
    "plt.xlabel(\"Limit balance\")\n",
    "plt.ylabel(\"default\")\n",
    "plt.title(\"Limit balance boxplot\")\n",
    "plt.grid()\n",
    "plt.show()"
   ]
  },
  {
   "cell_type": "code",
   "execution_count": 10,
   "metadata": {
    "collapsed": false
   },
   "outputs": [],
   "source": [
    "repayment_limit_bal = data[data['default'] == 0]['LIMIT_BAL']  # выборка по кредитному лимиту для вернувших кредит\n",
    "default_limit_bal = data[data['default'] == 1]['LIMIT_BAL']  # выборка по кредитному лимиту для НЕ вернувших кредит\n",
    "\n",
    "repayment_median = repayment_limit_bal.median()\n",
    "default_median = default_limit_bal.median()"
   ]
  },
  {
   "cell_type": "markdown",
   "metadata": {},
   "source": [
    "Построение доверительных интервалов для оценки медианы так же, как для среднего: $$med({X}_n) \\pm t_{1-\\frac{\\alpha}{2}} \\frac{S}{\\sqrt{n}}$$\n",
    "скорее всего не корректна."
   ]
  },
  {
   "cell_type": "code",
   "execution_count": 11,
   "metadata": {
    "collapsed": true
   },
   "outputs": [],
   "source": [
    "# repayment_std = repayment_limit_bal.std(ddof=1) / np.sqrt(repayment_limit_bal.shape[0])\n",
    "# default_std = default_limit_bal.std(ddof=1) / np.sqrt(default_limit_bal.shape[0])\n",
    "\n",
    "# repayment_interval = _tconfint_generic(repayment_median, repayment_std,\n",
    "#                                        repayment_limit_bal.shape[0] - 1,\n",
    "#                                        alpha, 'two-sided')\n",
    "# default_interval = _tconfint_generic(default_median, default_std,\n",
    "#                                      default_limit_bal.shape[0] - 1,\n",
    "#                                      alpha, 'two-sided')"
   ]
  },
  {
   "cell_type": "code",
   "execution_count": 12,
   "metadata": {
    "collapsed": true
   },
   "outputs": [],
   "source": [
    "# Точечная оценка медианы кредитного лимита\n",
    "# Медиана кредитного лимита для вернувших кредит:     150000.00\n",
    "# Медиана кредитного лимита для НЕ вернувших кредит:   90000.00\n",
    "\n",
    "# Интервальная оценка медианы кредитного лимита\n",
    "# 95.0% доверительный интервал медианы для вернувших кредит:    [ 148312.10,  151687.90]\n",
    "# 95.0% доверительный интервал медианы для НЕ вернувших кредит: [  87223.49,   92776.51]"
   ]
  },
  {
   "cell_type": "markdown",
   "metadata": {},
   "source": [
    "Воспользуемся алгоритмом, изложенным на сайте <a href=http://www.machinelearning.ru/wiki/index.php?title=Интервальная_оценка>www.machinelearning.ru</a>"
   ]
  },
  {
   "cell_type": "code",
   "execution_count": 13,
   "metadata": {
    "collapsed": false
   },
   "outputs": [],
   "source": [
    "def tconfint_median(sample, alpha=0.05):\n",
    "    ''' Интервальная оценка медианы для выборок с числом элементов более 50\n",
    "    http://www.machinelearning.ru/wiki/index.php?title=Интервальная_оценка\n",
    "    \n",
    "    :param sample: выборка\n",
    "    :param alpha: уровень доверия\n",
    "    :return: доверительный интервал для медианы (левая_граница, правая_граница)\n",
    "    '''\n",
    "    n = len(sample)\n",
    "    t = stats.t.ppf(q=1-alpha/2, df=n-1)\n",
    "    k = 0.5 * (n - t * np.sqrt(n) - 1)\n",
    "    low_idx = int(np.floor(k))\n",
    "    high_idx = int(np.ceil(n - k + 1))\n",
    "    variational_series = sorted(np.asarray(sample))\n",
    "    return variational_series[low_idx], variational_series[high_idx]"
   ]
  },
  {
   "cell_type": "code",
   "execution_count": 14,
   "metadata": {
    "collapsed": false
   },
   "outputs": [],
   "source": [
    "repayment_interval = tconfint_median(repayment_limit_bal, alpha)\n",
    "default_interval = tconfint_median(default_limit_bal, alpha)"
   ]
  },
  {
   "cell_type": "code",
   "execution_count": 15,
   "metadata": {
    "collapsed": false,
    "scrolled": true
   },
   "outputs": [
    {
     "name": "stdout",
     "output_type": "stream",
     "text": [
      "Точечная оценка медианы кредитного лимита\n",
      "Медиана кредитного лимита для вернувших кредит:     150000.00\n",
      "Медиана кредитного лимита для НЕ вернувших кредит:   90000.00\n",
      "\n",
      "Интервальная оценка медианы кредитного лимита\n",
      "95.0% доверительный интервал медианы для вернувших кредит:    [ 150000.00,  150000.00]\n",
      "95.0% доверительный интервал медианы для НЕ вернувших кредит: [  80000.00,   90000.00]\n"
     ]
    }
   ],
   "source": [
    "print(\"Точечная оценка медианы кредитного лимита\")\n",
    "print(\"Медиана кредитного лимита для вернувших кредит:    {:10.2f}\".format(repayment_median))\n",
    "print(\"Медиана кредитного лимита для НЕ вернувших кредит: {:10.2f}\".format(default_median))\n",
    "print()\n",
    "print(\"Интервальная оценка медианы кредитного лимита\")\n",
    "print(\"{}% доверительный интервал медианы для вернувших кредит:    [{:10.2f}, {:10.2f}]\".format(\n",
    "            (1 - alpha) * 100, *repayment_interval))\n",
    "print(\"{}% доверительный интервал медианы для НЕ вернувших кредит: [{:10.2f}, {:10.2f}]\".format(\n",
    "            (1 - alpha) * 100, *default_interval))"
   ]
  },
  {
   "cell_type": "markdown",
   "metadata": {},
   "source": [
    "Интересно, что \"некорректный\" метод в данном случае даёт результат, очень близкий к \"правильному\"."
   ]
  },
  {
   "cell_type": "markdown",
   "metadata": {},
   "source": [
    "Попробуем применить bootstrap"
   ]
  },
  {
   "cell_type": "code",
   "execution_count": 16,
   "metadata": {
    "collapsed": true
   },
   "outputs": [],
   "source": [
    "def get_bootstrap_samples(data, n_samples):\n",
    "    indices = np.random.randint(0, len(data), (n_samples, len(data)))\n",
    "    samples = data[indices]\n",
    "    return samples\n",
    "\n",
    "def stat_intervals(stat, alpha=0.05):\n",
    "    boundaries = np.percentile(stat, [100 * alpha / 2., 100 * (1 - alpha / 2.)])\n",
    "    return boundaries"
   ]
  },
  {
   "cell_type": "code",
   "execution_count": 17,
   "metadata": {
    "collapsed": false
   },
   "outputs": [
    {
     "name": "stdout",
     "output_type": "stream",
     "text": [
      "95.0% доверительный интервал медианы для вернувших кредит:    [ 150000.00,  150000.00]\n",
      "95.0% доверительный интервал медианы для НЕ вернувших кредит: [  80000.00,   90000.00]\n"
     ]
    }
   ],
   "source": [
    "repayment_median_scores = list(map(np.median, get_bootstrap_samples(repayment_limit_bal.values, 1000)))\n",
    "default_median_scores = list(map(np.median, get_bootstrap_samples(default_limit_bal.values, 1000)))\n",
    "\n",
    "print(\"{}% доверительный интервал медианы для вернувших кредит:    [{:10.2f}, {:10.2f}]\".format(\n",
    "            (1 - alpha) * 100, *stat_intervals(repayment_median_scores, alpha)))\n",
    "print(\"{}% доверительный интервал медианы для НЕ вернувших кредит: [{:10.2f}, {:10.2f}]\".format(\n",
    "            (1 - alpha) * 100, *stat_intervals(default_median_scores, alpha)))"
   ]
  },
  {
   "cell_type": "markdown",
   "metadata": {},
   "source": [
    "Bootstrap даёт такой же результат как и метод с  www.machinelearning.ru"
   ]
  },
  {
   "cell_type": "markdown",
   "metadata": {},
   "source": [
    "Оценим выборку на соответствие нормальному распределению:"
   ]
  },
  {
   "cell_type": "code",
   "execution_count": 18,
   "metadata": {
    "collapsed": false
   },
   "outputs": [
    {
     "data": {
      "image/png": "[encoded data removed]",
      "text/plain": [
       "<matplotlib.figure.Figure at 0x10bb182e8>"
      ]
     },
     "metadata": {},
     "output_type": "display_data"
    }
   ],
   "source": [
    "plt.figure(figsize=(12,8))\n",
    "plt.subplot(2,2,1)\n",
    "stats.probplot(pv_limit_bal[0].dropna(), dist=\"norm\", plot=plt)\n",
    "\n",
    "plt.subplot(2,2,2)\n",
    "stats.probplot(pv_limit_bal[1].dropna(), dist=\"norm\", plot=plt)\n",
    "plt.show()"
   ]
  },
  {
   "cell_type": "markdown",
   "metadata": {},
   "source": [
    "Обе выборки имеют значительные отклонения от нормального распределения в хвостах или это выбросы. На всякий случай критерий Стьюдента применять не будем."
   ]
  },
  {
   "cell_type": "markdown",
   "metadata": {},
   "source": [
    "Оценим возможность применения рангового критерия Манна-Уитни: размер обоих выборок должен быть не менее 20, в выборочных данных не должно быть \"слишком много\" повторяющихся значений. Выборки значительно больше 20. Проверим совпадающие значения в двух выборках:"
   ]
  },
  {
   "cell_type": "code",
   "execution_count": 19,
   "metadata": {
    "collapsed": false
   },
   "outputs": [
    {
     "data": {
      "text/html": [
       "<div>\n",
       "<table border=\"1\" class=\"dataframe\">\n",
       "  <thead>\n",
       "    <tr style=\"text-align: right;\">\n",
       "      <th>default</th>\n",
       "      <th>0</th>\n",
       "      <th>1</th>\n",
       "    </tr>\n",
       "    <tr>\n",
       "      <th>LIMIT_BAL</th>\n",
       "      <th></th>\n",
       "      <th></th>\n",
       "    </tr>\n",
       "  </thead>\n",
       "  <tbody>\n",
       "    <tr>\n",
       "      <th>10000</th>\n",
       "      <td>296</td>\n",
       "      <td>197</td>\n",
       "    </tr>\n",
       "    <tr>\n",
       "      <th>16000</th>\n",
       "      <td>2</td>\n",
       "      <td>0</td>\n",
       "    </tr>\n",
       "    <tr>\n",
       "      <th>20000</th>\n",
       "      <td>1278</td>\n",
       "      <td>698</td>\n",
       "    </tr>\n",
       "    <tr>\n",
       "      <th>30000</th>\n",
       "      <td>1042</td>\n",
       "      <td>568</td>\n",
       "    </tr>\n",
       "    <tr>\n",
       "      <th>40000</th>\n",
       "      <td>138</td>\n",
       "      <td>92</td>\n",
       "    </tr>\n",
       "  </tbody>\n",
       "</table>\n",
       "</div>"
      ],
      "text/plain": [
       "default       0    1\n",
       "LIMIT_BAL           \n",
       "10000       296  197\n",
       "16000         2    0\n",
       "20000      1278  698\n",
       "30000      1042  568\n",
       "40000       138   92"
      ]
     },
     "execution_count": 19,
     "metadata": {},
     "output_type": "execute_result"
    }
   ],
   "source": [
    "tbl = data.pivot_table(index='LIMIT_BAL', \n",
    "     values=\"AGE\", columns='default', aggfunc = len, fill_value=0)\n",
    "tbl.head()"
   ]
  },
  {
   "cell_type": "markdown",
   "metadata": {},
   "source": [
    "Совпадающих значений действительно очень много, критерий Манна-Уитни не применим."
   ]
  },
  {
   "cell_type": "markdown",
   "metadata": {},
   "source": [
    "Применим перестановчный критерий для независимых выборок."
   ]
  },
  {
   "cell_type": "markdown",
   "metadata": {},
   "source": [
    "$H_0\\colon F_{X_1}(x) = F_{X_2}(x)$\n",
    "\n",
    "$H_1\\colon F_{X_1}(x) = F_{X_2}(x + \\Delta), \\Delta <\\neq> 0$"
   ]
  },
  {
   "cell_type": "markdown",
   "metadata": {},
   "source": [
    "В данном случае<br /> $H_0$: среднее значение кредитного лимита одинаково для вернувших и не вернувших кредит <br />\n",
    "$H_1$: среднее значение отличается в этих двух группах."
   ]
  },
  {
   "cell_type": "markdown",
   "metadata": {},
   "source": [
    "Готовые функции были в тетрадке stat.non_parametric_tests_ind"
   ]
  },
  {
   "cell_type": "code",
   "execution_count": 20,
   "metadata": {
    "collapsed": true
   },
   "outputs": [],
   "source": [
    "def permutation_test_ind(sample1, sample2, max_permutations=None, alternative='two-sided'):\n",
    "    ''' Перестановочный критерий (независимые выборки)\n",
    "\n",
    "    :param sample1: выборка 1\n",
    "    :param sample2: выборка 2\n",
    "    :param max_combinations: количество перестановок, None - все возможные\n",
    "    :param alternative: альтернатива ['two-sided', 'less', 'greater']\n",
    "    :return: достигаемый уровень значимости (p-value)\n",
    "    '''\n",
    "\n",
    "    if alternative not in ('two-sided', 'less', 'greater'):\n",
    "        raise ValueError(\"alternative not recognized\\n\"\n",
    "                         \"should be 'two-sided', 'less' or 'greater'\")\n",
    "\n",
    "    t_stat = permutation_t_stat_ind(sample1, sample2)\n",
    "\n",
    "    zero_distr = permutation_zero_dist_ind(sample1, sample2, max_permutations)\n",
    "\n",
    "    if alternative == 'two-sided':\n",
    "        return sum([1. if abs(x) >= abs(t_stat) else 0. for x in zero_distr]) / len(zero_distr)\n",
    "\n",
    "    if alternative == 'less':\n",
    "        return sum([1. if x <= t_stat else 0. for x in zero_distr]) / len(zero_distr)\n",
    "\n",
    "    if alternative == 'greater':\n",
    "        return sum([1. if x >= t_stat else 0. for x in zero_distr]) / len(zero_distr)\n",
    "\n",
    "    \n",
    "def permutation_t_stat_ind(sample1, sample2):\n",
    "    return np.mean(sample1) - np.mean(sample2)\n",
    "\n",
    "\n",
    "def get_random_combinations(n1, n2, max_combinations):\n",
    "    index = list(range(n1 + n2))\n",
    "    indices = set([tuple(index)])\n",
    "    for i in range(max_combinations - 1):\n",
    "        np.random.shuffle(index)\n",
    "        indices.add(tuple(index))\n",
    "    return [(index[:n1], index[n1:]) for index in indices]\n",
    "\n",
    "\n",
    "def permutation_zero_dist_ind(sample1, sample2, max_combinations=None):\n",
    "    joined_sample = np.hstack((sample1, sample2))\n",
    "    n1 = len(sample1)\n",
    "    n = len(joined_sample)\n",
    "\n",
    "    if max_combinations:\n",
    "        indices = get_random_combinations(n1, len(sample2), max_combinations)\n",
    "    else:\n",
    "        indices = [(list(index), filter(lambda i: i not in index, range(n))) \\\n",
    "                   for index in itertools.combinations(range(n), n1)]\n",
    "\n",
    "    distr = [joined_sample[list(i[0])].mean() - joined_sample[list(i[1])].mean() \\\n",
    "             for i in indices]\n",
    "    return distr"
   ]
  },
  {
   "cell_type": "code",
   "execution_count": 21,
   "metadata": {
    "collapsed": false
   },
   "outputs": [
    {
     "name": "stdout",
     "output_type": "stream",
     "text": [
      "Достигаемый уровень значимости перестановочного критерия: 0.0001\n",
      "На уровне значимости 0.05 нулевая гипотеза отвергается\n"
     ]
    }
   ],
   "source": [
    "pval = permutation_test_ind(repayment_limit_bal, default_limit_bal, max_permutations=10000)\n",
    "print(\"Достигаемый уровень значимости перестановочного критерия: {}\".format(pval))\n",
    "print(\"На уровне значимости {} нулевая гипотеза {}\".format(alpha, \"отвергается\" if pval < alpha else \"НЕ отвергается\"))"
   ]
  },
  {
   "cell_type": "markdown",
   "metadata": {},
   "source": [
    "** Выводы **\n",
    "* медианные значения кредитного лимита не равны, их доверительные интервалы не пересекаются;\n",
    "* на заданном уровне значимости распределения выборок не равны;\n",
    "* результат имеет практическую значимость - заёмщики, запрашивающие кредиты около 80-90 тыс. попадают в группу повышенного риска. Такие заявки требуют дополнительной проверки для снижения риска невозврата кредита, либо поручительства за заёмщика третьими лицами."
   ]
  },
  {
   "cell_type": "markdown",
   "metadata": {
    "collapsed": true
   },
   "source": [
    "## Задание 2"
   ]
  },
  {
   "cell_type": "markdown",
   "metadata": {},
   "source": [
    "** Постановка задачи **"
   ]
  },
  {
   "cell_type": "markdown",
   "metadata": {},
   "source": [
    "Пол (SEX): Проверьте гипотезу о том, что гендерный состав группы людей вернувших и не вернувших кредит отличается. Хорошо, если вы предоставите несколько различных решений этой задачи (с помощью доверительного интервала и подходящего статистического критерия) \n",
    "\n",
    "SEX: пол клиента (1 = мужской, 2 = женский )"
   ]
  },
  {
   "cell_type": "markdown",
   "metadata": {},
   "source": [
    "** Решение **"
   ]
  },
  {
   "cell_type": "code",
   "execution_count": 22,
   "metadata": {
    "collapsed": false
   },
   "outputs": [
    {
     "data": {
      "image/png": "[encoded data removed]",
      "text/plain": [
       "<matplotlib.figure.Figure at 0x10bb0a978>"
      ]
     },
     "metadata": {},
     "output_type": "display_data"
    }
   ],
   "source": [
    "sex_dict = {1: \"man\", 2: \"woman\"}\n",
    "sex_counts = data['SEX'].value_counts().rename(sex_dict)\n",
    "\n",
    "sex_counts.plot(kind='bar', color='yb', grid=True, rot=0)\n",
    "for i, v in enumerate(sex_counts.values):\n",
    "    plt.text(i, v + 300, str(v))\n",
    "plt.title(\"Gender composition of the sample\")\n",
    "plt.show()"
   ]
  },
  {
   "cell_type": "markdown",
   "metadata": {},
   "source": [
    "Составим таблицу сопряжёности вида\n",
    "\n",
    "| Мужчины (SEX=1) | Женщины (SEX=2) |\n",
    ":---: | :---: |:-: |\n",
    "** Вернули кредит (default=0) ** |    | \n",
    "** Не вернули кредит (default=1) ** |    |  "
   ]
  },
  {
   "cell_type": "code",
   "execution_count": 23,
   "metadata": {
    "collapsed": false
   },
   "outputs": [
    {
     "data": {
      "text/html": [
       "<div>\n",
       "<table border=\"1\" class=\"dataframe\">\n",
       "  <thead>\n",
       "    <tr style=\"text-align: right;\">\n",
       "      <th>SEX</th>\n",
       "      <th>1</th>\n",
       "      <th>2</th>\n",
       "    </tr>\n",
       "    <tr>\n",
       "      <th>default</th>\n",
       "      <th></th>\n",
       "      <th></th>\n",
       "    </tr>\n",
       "  </thead>\n",
       "  <tbody>\n",
       "    <tr>\n",
       "      <th>0</th>\n",
       "      <td>9015</td>\n",
       "      <td>14349</td>\n",
       "    </tr>\n",
       "    <tr>\n",
       "      <th>1</th>\n",
       "      <td>2873</td>\n",
       "      <td>3763</td>\n",
       "    </tr>\n",
       "  </tbody>\n",
       "</table>\n",
       "</div>"
      ],
      "text/plain": [
       "SEX         1      2\n",
       "default             \n",
       "0        9015  14349\n",
       "1        2873   3763"
      ]
     },
     "execution_count": 23,
     "metadata": {},
     "output_type": "execute_result"
    }
   ],
   "source": [
    "table_sex = data.pivot_table(index='default', \n",
    "     values=\"LIMIT_BAL\", columns='SEX', aggfunc = len, fill_value=0)\n",
    "table_sex.head()"
   ]
  },
  {
   "cell_type": "markdown",
   "metadata": {},
   "source": [
    "И визуализируем её и получим гендерный состав в зависимости от возврата кредита"
   ]
  },
  {
   "cell_type": "code",
   "execution_count": 24,
   "metadata": {
    "collapsed": false
   },
   "outputs": [
    {
     "data": {
      "image/png": "[encoded data removed]",
      "text/plain": [
       "<matplotlib.figure.Figure at 0x1048063c8>"
      ]
     },
     "metadata": {},
     "output_type": "display_data"
    }
   ],
   "source": [
    "table_sex.plot.bar(color='by', rot=0)\n",
    "plt.xlabel(\"default\")\n",
    "plt.ylabel(\"Number of credits\")\n",
    "plt.title(\"Gender composition depending on default\")\n",
    "plt.legend([\"men\", \"women\"])\n",
    "plt.grid()\n",
    "\n",
    "plt.show()"
   ]
  },
  {
   "cell_type": "markdown",
   "metadata": {},
   "source": [
    "Проверим гипотезу гипотезу о совпадении гендерного состава в обоих выборках. Предполагаем, что выборки имеют распределения Бернулли с распределениями $Ber(p_{1})$ и $Ber(p_{2})$.\n",
    "\n",
    "$H_{0} \\colon p_{1} = p{2}$\n",
    "\n",
    "$H_{1} \\colon p_{1} < \\neq > p_{2}$"
   ]
  },
  {
   "cell_type": "markdown",
   "metadata": {},
   "source": [
    "В данном случае <br />\n",
    "$H_0$: гендерный состав групп совпадает <br />\n",
    "$H_1$: гендерный состав групп различается"
   ]
  },
  {
   "cell_type": "markdown",
   "metadata": {},
   "source": [
    "Для проверки с помощью доверительного интервала воспользуемся готовой функцией ** proportions_diff_confint_ind ** из лекции. В связи с тем, что выборки, подаваемые на вход функции должны состоять только из [0, 1], а в заданные выборки состоят из [1, 2] требуется конвертация данных. Будем заменять 2 на 0."
   ]
  },
  {
   "cell_type": "code",
   "execution_count": 25,
   "metadata": {
    "collapsed": true
   },
   "outputs": [],
   "source": [
    "def proportions_diff_confint_ind(sample1, sample2, alpha=0.05):\n",
    "    ''' Доверительный интервал для разности долей (независимые выборки)\n",
    "\n",
    "    :param sample1: выборка 1 с бинарными значениями [0, 1]\n",
    "    :param sample2: выборка 2 с бинарными значениями [0, 1]\n",
    "    :param alpha: уровень доверия\n",
    "    :return: доверительный интервал для разности долей (левая_граница, правая_граница)\n",
    "    '''\n",
    "\n",
    "    z = stats.norm.ppf(1 - alpha / 2.)\n",
    "\n",
    "    p1 = float(sum(sample1)) / len(sample1)\n",
    "    p2 = float(sum(sample2)) / len(sample2)\n",
    "\n",
    "    left_boundary = (p1 - p2) - z * np.sqrt(\n",
    "        p1 * (1 - p1) / len(sample1) + p2 * (1 - p2) / len(sample2))\n",
    "    right_boundary = (p1 - p2) + z * np.sqrt(\n",
    "        p1 * (1 - p1) / len(sample1) + p2 * (1 - p2) / len(sample2))\n",
    "\n",
    "    return (left_boundary, right_boundary)"
   ]
  },
  {
   "cell_type": "code",
   "execution_count": 26,
   "metadata": {
    "collapsed": true
   },
   "outputs": [],
   "source": [
    "repayment_sex = data[data['default'] == 0]['SEX']  # выборка по полу для вернувших кредит\n",
    "default_sex = data[data['default'] == 1]['SEX']  # выборка по полу для НЕ вернувших кредит"
   ]
  },
  {
   "cell_type": "code",
   "execution_count": 27,
   "metadata": {
    "collapsed": false
   },
   "outputs": [
    {
     "name": "stdout",
     "output_type": "stream",
     "text": [
      "95.0% доверительный интервал для разности долей: [-0.06, -0.03]\n"
     ]
    }
   ],
   "source": [
    "interval = proportions_diff_confint_ind(list(map(lambda x: 0 if x == 2 else x, repayment_sex)),\n",
    "                                        list(map(lambda x: 0 if x == 2 else x, default_sex)),\n",
    "                                        alpha)\n",
    "print(\"{}% доверительный интервал для разности долей: [{:5.2f}, {:5.2f}]\".format((1 - alpha) * 100, *interval))"
   ]
  },
  {
   "cell_type": "markdown",
   "metadata": {},
   "source": [
    "Доверительный интеравал для разности долей мужчин и женщин не содержит нуля, следовательно, гендерный состав групп вернувших кредит и не вернувших кредит различный."
   ]
  },
  {
   "cell_type": "markdown",
   "metadata": {},
   "source": [
    "Для проверки гипотезы с помощью статистического критерия применим точный тест Фишера, который не имеет ограничений (для таблиц более 2х2 ограничения только вычислительные), в отличии от критерия хи-квадрат."
   ]
  },
  {
   "cell_type": "code",
   "execution_count": 28,
   "metadata": {
    "collapsed": false
   },
   "outputs": [
    {
     "name": "stdout",
     "output_type": "stream",
     "text": [
      "Отношение шансов: 0.82\n",
      "Достигаемый уровень значимости 5.252838052105445e-12\n",
      "На уровне значимости 0.05 нулевая гипотеза отвергается\n"
     ]
    }
   ],
   "source": [
    "oddsratio, pval = stats.fisher_exact(table_sex.values, alternative='two-sided')\n",
    "print(\"Отношение шансов: {:.2f}\".format(oddsratio))\n",
    "print(\"Достигаемый уровень значимости {}\".format(pval))\n",
    "print(\"На уровне значимости {} нулевая гипотеза {}\".format(alpha, \"отвергается\" if pval < alpha else \"НЕ отвергается\"))"
   ]
  },
  {
   "cell_type": "markdown",
   "metadata": {},
   "source": [
    "** Выводы **\n",
    "* на заданном уровне значимости точный тест Фишера также как доверительный интервал свидетельствует о различии гендерного состава в группах;\n",
    "* на основании рассчитанного отношения шансов (и доверительного интервала) можно сделать вывод, что в группе не вернувших кредит, доля женщин снижается, а доля мужчин увеличивается;\n",
    "* результат имеет практическую значимость - среди не вернувших кредит больше заёмщиков-мужчин. Мужчин нужно дополнительно проверять для снижения риска невозврата кредита, или включать условие о поручителях (желательно, чтобы среди них были женщины)."
   ]
  },
  {
   "cell_type": "markdown",
   "metadata": {},
   "source": [
    "## Задание 3"
   ]
  },
  {
   "cell_type": "markdown",
   "metadata": {},
   "source": [
    "** Постановка задачи **"
   ]
  },
  {
   "cell_type": "markdown",
   "metadata": {},
   "source": [
    "Образование (EDUCATION): Проверьте гипотезу о том, что образование не влияет на то, вернет ли человек долг. Предложите способ наглядного представления разницы в ожидаемых и наблюдаемых значениях количества человек вернувших и не вернувших долг. Например, составьте таблицу сопряженности, где значением ячейки была бы разность между количеством человек вернувших и не вернувших долг по каждому из значений образования. Похожи ли значения в этой таблице ? Как бы вы предложили модифицировать таблицу так, чтобы привести значения ячеек к одному масштабу не потеряв в интерпретируемости ? Наличие какого образования является наилучшим индикатором того, что человек отдаст долг ? наоборт, не отдаст долг ?\n",
    "\n",
    "EDUCATION: образование (0 = доктор, 1 = магистр; 2 = бакалавр; 3 = выпускник школы; 4 = начальное образование; 5= прочее; 6 = нет данных )."
   ]
  },
  {
   "cell_type": "markdown",
   "metadata": {},
   "source": [
    "** Решение **"
   ]
  },
  {
   "cell_type": "code",
   "execution_count": 29,
   "metadata": {
    "collapsed": true
   },
   "outputs": [],
   "source": [
    "edu_names = [\"Ph.D.\", \"Master\", \"Bachelor\", \"Graduate school\", \"Elementary education\", \"N/A\"]"
   ]
  },
  {
   "cell_type": "code",
   "execution_count": 30,
   "metadata": {
    "collapsed": false
   },
   "outputs": [
    {
     "data": {
      "image/png": "[encoded data removed]",
      "text/plain": [
       "<matplotlib.figure.Figure at 0x1047f2400>"
      ]
     },
     "metadata": {},
     "output_type": "display_data"
    }
   ],
   "source": [
    "edu_counts = data['EDUCATION'].value_counts().rename({idx: name for (idx, name) in enumerate(edu_names)})\n",
    "\n",
    "edu_counts.plot(kind='bar', grid=True, rot=0, figsize=(10, 7))\n",
    "for i, v in enumerate(edu_counts.values):\n",
    "    plt.text(i, v + 300, str(v))\n",
    "plt.title(\"Education levels\")\n",
    "plt.show()"
   ]
  },
  {
   "cell_type": "code",
   "execution_count": 31,
   "metadata": {
    "collapsed": false
   },
   "outputs": [
    {
     "data": {
      "text/html": [
       "<div>\n",
       "<table border=\"1\" class=\"dataframe\">\n",
       "  <thead>\n",
       "    <tr style=\"text-align: right;\">\n",
       "      <th>EDUCATION</th>\n",
       "      <th>0</th>\n",
       "      <th>1</th>\n",
       "      <th>2</th>\n",
       "      <th>3</th>\n",
       "      <th>4</th>\n",
       "      <th>5</th>\n",
       "      <th>6</th>\n",
       "    </tr>\n",
       "    <tr>\n",
       "      <th>default</th>\n",
       "      <th></th>\n",
       "      <th></th>\n",
       "      <th></th>\n",
       "      <th></th>\n",
       "      <th></th>\n",
       "      <th></th>\n",
       "      <th></th>\n",
       "    </tr>\n",
       "  </thead>\n",
       "  <tbody>\n",
       "    <tr>\n",
       "      <th>0</th>\n",
       "      <td>14</td>\n",
       "      <td>8549</td>\n",
       "      <td>10700</td>\n",
       "      <td>3680</td>\n",
       "      <td>116</td>\n",
       "      <td>262</td>\n",
       "      <td>43</td>\n",
       "    </tr>\n",
       "    <tr>\n",
       "      <th>1</th>\n",
       "      <td>0</td>\n",
       "      <td>2036</td>\n",
       "      <td>3330</td>\n",
       "      <td>1237</td>\n",
       "      <td>7</td>\n",
       "      <td>18</td>\n",
       "      <td>8</td>\n",
       "    </tr>\n",
       "  </tbody>\n",
       "</table>\n",
       "</div>"
      ],
      "text/plain": [
       "EDUCATION   0     1      2     3    4    5   6\n",
       "default                                       \n",
       "0          14  8549  10700  3680  116  262  43\n",
       "1           0  2036   3330  1237    7   18   8"
      ]
     },
     "execution_count": 31,
     "metadata": {},
     "output_type": "execute_result"
    }
   ],
   "source": [
    "table_edu = data.pivot_table(index='default', \n",
    "     values=\"LIMIT_BAL\", columns='EDUCATION', aggfunc = len, fill_value=0)\n",
    "table_edu.head()"
   ]
  },
  {
   "cell_type": "code",
   "execution_count": 32,
   "metadata": {
    "collapsed": false
   },
   "outputs": [
    {
     "data": {
      "image/png": "[encoded data removed]",
      "text/plain": [
       "<matplotlib.figure.Figure at 0x21364ad68>"
      ]
     },
     "metadata": {},
     "output_type": "display_data"
    }
   ],
   "source": [
    "table_edu.plot.bar(rot=0, figsize=(10, 7))\n",
    "plt.xlabel(\"default\")\n",
    "plt.ylabel(\"Number of credits\")\n",
    "plt.title(\"Education level depending on default\")\n",
    "plt.legend(edu_names)\n",
    "plt.grid()\n",
    "plt.show()"
   ]
  },
  {
   "cell_type": "markdown",
   "metadata": {},
   "source": [
    "Проверим гипотезу о том, что образование не влияет на то, вернет ли человек долг с помощбю критерия хи-квадрат."
   ]
  },
  {
   "cell_type": "markdown",
   "metadata": {},
   "source": [
    "Убедимся в правомерности применения статистики хи-квадрат в соответствии с правилами:\n",
    "* количество объектов в таблице сопряжённости $$n \\geq 40$$\n",
    "* ожидаемое количество элементов в таблице $${n_{i+} n_{+j} \\over n} < 5 \\text{ не более, чем в 20% случаев}$$"
   ]
  },
  {
   "cell_type": "code",
   "execution_count": 33,
   "metadata": {
    "collapsed": true
   },
   "outputs": [],
   "source": [
    "def chi2_validity_info(table):\n",
    "    n = np.sum(table) # сумма элементов\n",
    "    ni = np.sum(table, axis=1) # сумма по строкам\n",
    "    nj = np.sum(table, axis=0) # сумма по столбцам\n",
    "    total_cases_count = table.shape[0] + table.shape[1]\n",
    "    less5_cases_count = 0\n",
    "    for i in range(table.shape[0]):\n",
    "        for j in range(table.shape[1]):\n",
    "            if float(ni[i] * nj[j]) / n < 5:\n",
    "                less5_cases_count += 1\n",
    "    less5_cases_percent = float(less5_cases_count) / total_cases_count * 100\n",
    "    return n, less5_cases_percent"
   ]
  },
  {
   "cell_type": "code",
   "execution_count": 34,
   "metadata": {
    "collapsed": false
   },
   "outputs": [
    {
     "name": "stdout",
     "output_type": "stream",
     "text": [
      "Количество элементов в таблице сопряженности n = 30000  при норме n >= 40\n",
      "Первое правило не нарушается\n",
      "\n",
      "(ni+ * n+j) / n < 5 в 11.1% случаев  при норме не более 20%\n",
      "Второе правило не нарушается\n",
      "\n",
      "Применение критерия хи-квадрат правомерно\n"
     ]
    }
   ],
   "source": [
    "n, less5_cases_percent = chi2_validity_info(table_edu.values)\n",
    "print(\"Количество элементов в таблице сопряженности n = {}  при норме n >= 40\".format(n))\n",
    "print(\"Первое правило {}\".format(\"не нарушается\" if n >=40 else \"НАРУШАЕТСЯ\"))\n",
    "print()\n",
    "print(\"(ni+ * n+j) / n < 5 в {:.1f}% случаев  при норме не более 20%\".format(less5_cases_percent))\n",
    "print(\"Второе правило {}\".format(\"не нарушается\" if less5_cases_percent < 20 else \"НАРУШАЕТСЯ\"))\n",
    "print()\n",
    "if n >= 20 and less5_cases_percent < 20:\n",
    "    print(\"Применение критерия хи-квадрат правомерно\")\n",
    "else:\n",
    "    print(\"Применение критерия хи-квадрат НЕ ПРАВОМЕРНО !\")"
   ]
  },
  {
   "cell_type": "markdown",
   "metadata": {},
   "source": [
    "$H_0\\colon MCC_{X_1 X_2} = 0$\n",
    "\n",
    "$H_1\\colon MCC_{X_1 X_2} \\neq 0$"
   ]
  },
  {
   "cell_type": "markdown",
   "metadata": {},
   "source": [
    "В данном случае <br />\n",
    "$H_0$: уровень образования не влияет на возврат кредита <br />\n",
    "$H_1$: влияет"
   ]
  },
  {
   "cell_type": "code",
   "execution_count": 35,
   "metadata": {
    "collapsed": false
   },
   "outputs": [
    {
     "name": "stdout",
     "output_type": "stream",
     "text": [
      "Критерий хи-квадрат 163.2166, достигаемый уровень значимости 1.2332626245415605e-32\n",
      "На уровне значимости 0.05 нулевая гипотеза отвергается\n"
     ]
    }
   ],
   "source": [
    "chi2, pval, dof, ex = stats.chi2_contingency(table_edu.values)\n",
    "print(\"Критерий хи-квадрат {:.4f}, достигаемый уровень значимости {}\".format(chi2, pval))\n",
    "print(\"На уровне значимости {} нулевая гипотеза {}\".format(alpha, \"отвергается\" if pval < alpha else \"НЕ отвергается\"))"
   ]
  },
  {
   "cell_type": "markdown",
   "metadata": {},
   "source": [
    "Визуализируем разницу в ожидаемых и наблюдаемых значениях количества человек вернувших и не вернувших долг:"
   ]
  },
  {
   "cell_type": "code",
   "execution_count": 36,
   "metadata": {
    "collapsed": false
   },
   "outputs": [
    {
     "data": {
      "text/html": [
       "<div>\n",
       "<table border=\"1\" class=\"dataframe\">\n",
       "  <thead>\n",
       "    <tr style=\"text-align: right;\">\n",
       "      <th>EDUCATION</th>\n",
       "      <th>0</th>\n",
       "      <th>1</th>\n",
       "      <th>2</th>\n",
       "      <th>3</th>\n",
       "      <th>4</th>\n",
       "      <th>5</th>\n",
       "      <th>6</th>\n",
       "    </tr>\n",
       "  </thead>\n",
       "  <tbody>\n",
       "    <tr>\n",
       "      <th>default=0</th>\n",
       "      <td>-3.0968</td>\n",
       "      <td>-305.402</td>\n",
       "      <td>226.564</td>\n",
       "      <td>149.3596</td>\n",
       "      <td>-20.2076</td>\n",
       "      <td>-43.936</td>\n",
       "      <td>-3.2812</td>\n",
       "    </tr>\n",
       "    <tr>\n",
       "      <th>default=1</th>\n",
       "      <td>3.0968</td>\n",
       "      <td>305.402</td>\n",
       "      <td>-226.564</td>\n",
       "      <td>-149.3596</td>\n",
       "      <td>20.2076</td>\n",
       "      <td>43.936</td>\n",
       "      <td>3.2812</td>\n",
       "    </tr>\n",
       "  </tbody>\n",
       "</table>\n",
       "</div>"
      ],
      "text/plain": [
       "EDUCATION       0        1        2         3        4       5       6\n",
       "default=0 -3.0968 -305.402  226.564  149.3596 -20.2076 -43.936 -3.2812\n",
       "default=1  3.0968  305.402 -226.564 -149.3596  20.2076  43.936  3.2812"
      ]
     },
     "execution_count": 36,
     "metadata": {},
     "output_type": "execute_result"
    }
   ],
   "source": [
    "table_diff_edu1 = pd.DataFrame(data=ex-table_edu.values, columns=table_edu.columns)\n",
    "table_diff_edu1.rename(index={0: \"default=0\", 1: \"default=1\"}, inplace=True)\n",
    "table_diff_edu1.head()"
   ]
  },
  {
   "cell_type": "code",
   "execution_count": 37,
   "metadata": {
    "collapsed": false
   },
   "outputs": [
    {
     "data": {
      "image/png": "[encoded data removed]",
      "text/plain": [
       "<matplotlib.figure.Figure at 0x10c086cf8>"
      ]
     },
     "metadata": {},
     "output_type": "display_data"
    }
   ],
   "source": [
    "table_diff_edu1.plot.bar(rot=0, figsize=(15, 7))\n",
    "plt.ylabel(\"Number of credits\")\n",
    "plt.title(\"Diffs between observed and expected number of credits\")\n",
    "plt.legend(edu_names)\n",
    "plt.grid()\n",
    "plt.show()"
   ]
  },
  {
   "cell_type": "markdown",
   "metadata": {},
   "source": [
    "Значения очень похожи - они зеркально противоположны для default=0 и default=1"
   ]
  },
  {
   "cell_type": "markdown",
   "metadata": {
    "collapsed": false
   },
   "source": [
    "Визуализируем разность между количеством человек вернувших и не вернувших долг по каждому из значений образования"
   ]
  },
  {
   "cell_type": "code",
   "execution_count": 38,
   "metadata": {
    "collapsed": false
   },
   "outputs": [
    {
     "data": {
      "text/html": [
       "<div>\n",
       "<table border=\"1\" class=\"dataframe\">\n",
       "  <thead>\n",
       "    <tr style=\"text-align: right;\">\n",
       "      <th>EDUCATION</th>\n",
       "      <th>0</th>\n",
       "      <th>1</th>\n",
       "      <th>2</th>\n",
       "      <th>3</th>\n",
       "      <th>4</th>\n",
       "      <th>5</th>\n",
       "      <th>6</th>\n",
       "    </tr>\n",
       "  </thead>\n",
       "  <tbody>\n",
       "    <tr>\n",
       "      <th>difference</th>\n",
       "      <td>14</td>\n",
       "      <td>6513</td>\n",
       "      <td>7370</td>\n",
       "      <td>2443</td>\n",
       "      <td>109</td>\n",
       "      <td>244</td>\n",
       "      <td>35</td>\n",
       "    </tr>\n",
       "  </tbody>\n",
       "</table>\n",
       "</div>"
      ],
      "text/plain": [
       "EDUCATION    0     1     2     3    4    5   6\n",
       "difference  14  6513  7370  2443  109  244  35"
      ]
     },
     "execution_count": 38,
     "metadata": {},
     "output_type": "execute_result"
    }
   ],
   "source": [
    "table_diff_edu2 = pd.DataFrame(data=(table_edu.loc[0] - table_edu.loc[1]).reshape(1,7),\n",
    "                               columns=table_edu.columns, index = [\"difference\"])\n",
    "table_diff_edu2.head()"
   ]
  },
  {
   "cell_type": "code",
   "execution_count": 39,
   "metadata": {
    "collapsed": false
   },
   "outputs": [
    {
     "data": {
      "image/png": "[encoded data removed]",
      "text/plain": [
       "<matplotlib.figure.Figure at 0x10c086a20>"
      ]
     },
     "metadata": {},
     "output_type": "display_data"
    }
   ],
   "source": [
    "table_diff_edu2.plot.bar(rot=0, figsize=(10, 7))\n",
    "plt.ylabel(\"Number of credits\")\n",
    "plt.title(\"Diffs between repayments and defaults\")\n",
    "plt.legend(edu_names)\n",
    "plt.grid()\n",
    "plt.show()"
   ]
  },
  {
   "cell_type": "markdown",
   "metadata": {
    "collapsed": true
   },
   "source": [
    "Модифицируем таблицу так, чтобы привести значения ячеек к одному масштабу не потеряв в интерпретируемости. Для этого разделим каждое значение разности на количество людей в этой подгруппе. Полученные значения - эффективность возврата кредита, чем значение больше, тем больше доля людей в ээтой группе, которые вернули кредит."
   ]
  },
  {
   "cell_type": "code",
   "execution_count": 40,
   "metadata": {
    "collapsed": false
   },
   "outputs": [
    {
     "data": {
      "text/html": [
       "<div>\n",
       "<table border=\"1\" class=\"dataframe\">\n",
       "  <thead>\n",
       "    <tr style=\"text-align: right;\">\n",
       "      <th>EDUCATION</th>\n",
       "      <th>0</th>\n",
       "      <th>1</th>\n",
       "      <th>2</th>\n",
       "      <th>3</th>\n",
       "      <th>4</th>\n",
       "      <th>5</th>\n",
       "      <th>6</th>\n",
       "    </tr>\n",
       "  </thead>\n",
       "  <tbody>\n",
       "    <tr>\n",
       "      <th>scaled_difference</th>\n",
       "      <td>1.0</td>\n",
       "      <td>0.615305</td>\n",
       "      <td>0.525303</td>\n",
       "      <td>0.496848</td>\n",
       "      <td>0.886179</td>\n",
       "      <td>0.871429</td>\n",
       "      <td>0.686275</td>\n",
       "    </tr>\n",
       "  </tbody>\n",
       "</table>\n",
       "</div>"
      ],
      "text/plain": [
       "EDUCATION            0         1         2         3         4         5  \\\n",
       "scaled_difference  1.0  0.615305  0.525303  0.496848  0.886179  0.871429   \n",
       "\n",
       "EDUCATION                 6  \n",
       "scaled_difference  0.686275  "
      ]
     },
     "execution_count": 40,
     "metadata": {},
     "output_type": "execute_result"
    }
   ],
   "source": [
    "diff_edu2_scaled = (table_edu.loc[0] - table_edu.loc[1]) / ((table_edu.loc[0] + table_edu.loc[1]))\n",
    "table_diff_edu2_scaled = pd.DataFrame(data=diff_edu2_scaled.reshape(1,7),\n",
    "                                      columns=table_edu.columns, index = [\"scaled_difference\"])\n",
    "table_diff_edu2_scaled.head()"
   ]
  },
  {
   "cell_type": "code",
   "execution_count": 41,
   "metadata": {
    "collapsed": false
   },
   "outputs": [
    {
     "data": {
      "image/png": "[encoded data removed]",
      "text/plain": [
       "<matplotlib.figure.Figure at 0x10b8eecf8>"
      ]
     },
     "metadata": {},
     "output_type": "display_data"
    }
   ],
   "source": [
    "table_diff_edu2_scaled.plot.bar(rot=0, figsize=(15, 7))\n",
    "plt.ylabel(\"Proportion of repayment\")\n",
    "plt.title(\"Scaled diffs between repayments and defaults\")\n",
    "plt.legend(edu_names)\n",
    "plt.grid()\n",
    "plt.show()"
   ]
  },
  {
   "cell_type": "markdown",
   "metadata": {},
   "source": [
    "** Выводы **"
   ]
  },
  {
   "cell_type": "markdown",
   "metadata": {},
   "source": [
    "* на заданном уровне значимости критерий хи-квадрат свидетельствует о зависимости возврата кредита от уровня образования заёмщика;\n",
    "* хуже всего возвращают кредиты лица с образованием \"выпускник школы\" и \"бакалавр\", Лучше всего - доктора (их доля в выборке мала и результат может быть не репрезентативным) и магистры;\n",
    "* практическая ценность - снижения риска невозврата путём дополнительныых проверок бакалавров и выпускников школ перед выдачей кредита. Либо выдвигать требования о поручителях или о безусловном материальном обеспечении выдаваемого кредита."
   ]
  },
  {
   "cell_type": "markdown",
   "metadata": {},
   "source": [
    "## Задание 4"
   ]
  },
  {
   "cell_type": "markdown",
   "metadata": {},
   "source": [
    "** Постановка задачи **"
   ]
  },
  {
   "cell_type": "markdown",
   "metadata": {},
   "source": [
    "Семейное положение (MARRIAGE): Проверьте, как связан семейный статус с индикатором дефолта: нужно предложить меру, по которой можно измерить возможную связь этих переменных и посчитать ее значение.\n",
    "\n",
    "\n",
    "MARRIAGE: (0 = отказываюсь отвечать; 1 = замужем/женат; 2 = холост; 3 = нет данных)."
   ]
  },
  {
   "cell_type": "markdown",
   "metadata": {},
   "source": [
    "** Решение **"
   ]
  },
  {
   "cell_type": "code",
   "execution_count": 42,
   "metadata": {
    "collapsed": true
   },
   "outputs": [],
   "source": [
    "mar_names = [\"refused\", \"married\", \"single\", \"N/A\"]"
   ]
  },
  {
   "cell_type": "code",
   "execution_count": 43,
   "metadata": {
    "collapsed": false
   },
   "outputs": [
    {
     "data": {
      "image/png": "[encoded data removed]",
      "text/plain": [
       "<matplotlib.figure.Figure at 0x10bb764a8>"
      ]
     },
     "metadata": {},
     "output_type": "display_data"
    }
   ],
   "source": [
    "mar_counts = data['MARRIAGE'].value_counts().rename({idx: name for (idx, name) in enumerate(mar_names)})\n",
    "\n",
    "mar_counts.plot(kind='bar', grid=True, rot=0, figsize=(10, 7))\n",
    "for i, v in enumerate(mar_counts.values):\n",
    "    plt.text(i, v + 300, str(v))\n",
    "plt.title(\"Marriage\")\n",
    "plt.show()"
   ]
  },
  {
   "cell_type": "code",
   "execution_count": 44,
   "metadata": {
    "collapsed": false
   },
   "outputs": [
    {
     "data": {
      "text/html": [
       "<div>\n",
       "<table border=\"1\" class=\"dataframe\">\n",
       "  <thead>\n",
       "    <tr style=\"text-align: right;\">\n",
       "      <th>MARRIAGE</th>\n",
       "      <th>0</th>\n",
       "      <th>1</th>\n",
       "      <th>2</th>\n",
       "      <th>3</th>\n",
       "    </tr>\n",
       "    <tr>\n",
       "      <th>default</th>\n",
       "      <th></th>\n",
       "      <th></th>\n",
       "      <th></th>\n",
       "      <th></th>\n",
       "    </tr>\n",
       "  </thead>\n",
       "  <tbody>\n",
       "    <tr>\n",
       "      <th>0</th>\n",
       "      <td>49</td>\n",
       "      <td>10453</td>\n",
       "      <td>12623</td>\n",
       "      <td>239</td>\n",
       "    </tr>\n",
       "    <tr>\n",
       "      <th>1</th>\n",
       "      <td>5</td>\n",
       "      <td>3206</td>\n",
       "      <td>3341</td>\n",
       "      <td>84</td>\n",
       "    </tr>\n",
       "  </tbody>\n",
       "</table>\n",
       "</div>"
      ],
      "text/plain": [
       "MARRIAGE   0      1      2    3\n",
       "default                        \n",
       "0         49  10453  12623  239\n",
       "1          5   3206   3341   84"
      ]
     },
     "execution_count": 44,
     "metadata": {},
     "output_type": "execute_result"
    }
   ],
   "source": [
    "table_mar = data.pivot_table(index='default', \n",
    "     values=\"LIMIT_BAL\", columns='MARRIAGE', aggfunc = len, fill_value=0)\n",
    "table_mar.head()"
   ]
  },
  {
   "cell_type": "code",
   "execution_count": 45,
   "metadata": {
    "collapsed": false
   },
   "outputs": [
    {
     "data": {
      "image/png": "[encoded data removed]",
      "text/plain": [
       "<matplotlib.figure.Figure at 0x10bb18630>"
      ]
     },
     "metadata": {},
     "output_type": "display_data"
    }
   ],
   "source": [
    "table_mar.plot.bar(rot=0, figsize=(10, 7))\n",
    "plt.xlabel(\"default\")\n",
    "plt.ylabel(\"Number of credits\")\n",
    "plt.title(\"Marriage depending on default\")\n",
    "plt.legend(mar_names)\n",
    "plt.grid()\n",
    "plt.show()"
   ]
  },
  {
   "cell_type": "markdown",
   "metadata": {},
   "source": [
    "Проверим, как связан семейный статус с индикатором дефолта: посчитаем посчитаем коэффициент V Крамера, предварительно проверив применимость критерия хи-квадрат (через хи-квадрат будем вычитслять достигаемый уровень значимости коэффициента V Крамера):"
   ]
  },
  {
   "cell_type": "code",
   "execution_count": 46,
   "metadata": {
    "collapsed": false
   },
   "outputs": [
    {
     "name": "stdout",
     "output_type": "stream",
     "text": [
      "Количество элементов в таблице сопряженности n = 30000  при норме n >= 40\n",
      "Первое правило не нарушается\n",
      "\n",
      "(ni+ * n+j) / n < 5 в 0.0% случаев  при норме не более 20%\n",
      "Второе правило не нарушается\n",
      "\n",
      "Применение критерия хи-квадрат правомерно\n"
     ]
    }
   ],
   "source": [
    "n, less5_cases_percent = chi2_validity_info(table_mar.values)\n",
    "print(\"Количество элементов в таблице сопряженности n = {}  при норме n >= 40\".format(n))\n",
    "print(\"Первое правило {}\".format(\"не нарушается\" if n >=40 else \"НАРУШАЕТСЯ\"))\n",
    "print()\n",
    "print(\"(ni+ * n+j) / n < 5 в {:.1f}% случаев  при норме не более 20%\".format(less5_cases_percent))\n",
    "print(\"Второе правило {}\".format(\"не нарушается\" if less5_cases_percent < 20 else \"НАРУШАЕТСЯ\"))\n",
    "print()\n",
    "if n >= 20 and less5_cases_percent < 20:\n",
    "    print(\"Применение критерия хи-квадрат правомерно\")\n",
    "else:\n",
    "    print(\"Применение критерия хи-квадрат НЕ ПРАВОМЕРНО !\")"
   ]
  },
  {
   "cell_type": "code",
   "execution_count": 47,
   "metadata": {
    "collapsed": true
   },
   "outputs": [],
   "source": [
    "def cramerV(contigency_table):\n",
    "    '''Коэффициент корреляции V Крамера для двух категориальных переменных\n",
    "\n",
    "    :param contigency_table: таблица сопряжённости\n",
    "    :return: коэффициент корреляции V Крамера и достигаемый уровень значимости (p-value)\n",
    "    '''\n",
    "\n",
    "    table = np.asarray(contigency_table)\n",
    "    chi2, pvalue, dof, ex = stats.chi2_contingency(table)\n",
    "    k1 = table.shape[0]\n",
    "    k2 = table.shape[1]\n",
    "    n = np.sum(table)  # сумма элементов в таблице сопряжённости\n",
    "    phi_c = np.sqrt(chi2 / (n * (min(k1, k2) - 1)))\n",
    "    return phi_c, pvalue"
   ]
  },
  {
   "cell_type": "code",
   "execution_count": 48,
   "metadata": {
    "collapsed": false
   },
   "outputs": [
    {
     "name": "stdout",
     "output_type": "stream",
     "text": [
      "Коэффициент V Крамера 0.0345, достигаемый уровень значимости 1.2332626245415605e-32\n",
      "На уровне значимости 0.05 отличие от нуля коээффициента V Крамера НЕ значимо\n"
     ]
    }
   ],
   "source": [
    "phi_c, pval = cramerV(table_mar)\n",
    "chi2, pval, dof, ex = stats.chi2_contingency(table_edu.values)\n",
    "print(\"Коэффициент V Крамера {:.4f}, достигаемый уровень значимости {}\".format(phi_c, pval))\n",
    "print(\"На уровне значимости {} отличие от нуля коээффициента V Крамера {}\".format(alpha, \"НЕ значимо\" if pval < alpha else \"значимо\"))"
   ]
  },
  {
   "cell_type": "markdown",
   "metadata": {},
   "source": [
    "** Вывод **"
   ]
  },
  {
   "cell_type": "markdown",
   "metadata": {},
   "source": [
    "* на уровне значимости 0.05 семейное положение заёмщика не связано с возвратом или неозвратом им кредита;\n",
    "* косвенная практическая значимость данного утверждения в том, что не требуется дополнительно проверять людей с каким-то конкретным семейным положением, не отвлекать на это ресурсы и лишний раз не отказывать в выдаче кредита. Прямой практической значимости нет."
   ]
  },
  {
   "cell_type": "markdown",
   "metadata": {},
   "source": [
    "## Задание 5"
   ]
  },
  {
   "cell_type": "markdown",
   "metadata": {},
   "source": [
    "** Постановка задачи **"
   ]
  },
  {
   "cell_type": "markdown",
   "metadata": {},
   "source": [
    "Возраст (AGE): Относительно двух групп людей вернувших и не вернувших кредит проверьте следующие гипотезы: a) о равенстве медианных значений возрастов людей b) о равенстве распределений с помощью одного из подходящих непараметрических критериев проверки равенства средних. Значимы ли полученные результаты с практической точки зрения ?\n",
    "        \n",
    "AGE: возраст в годах        "
   ]
  },
  {
   "cell_type": "markdown",
   "metadata": {},
   "source": [
    "** Решение **"
   ]
  },
  {
   "cell_type": "code",
   "execution_count": 49,
   "metadata": {
    "collapsed": false
   },
   "outputs": [
    {
     "data": {
      "image/png": "[encoded data removed]",
      "text/plain": [
       "<matplotlib.figure.Figure at 0x10c108ba8>"
      ]
     },
     "metadata": {},
     "output_type": "display_data"
    }
   ],
   "source": [
    "credit_counts = data['AGE'].value_counts()\n",
    "\n",
    "credit_counts.plot(kind='bar', grid=True, rot=0, figsize=(15, 7))\n",
    "plt.xlabel(\"default\")\n",
    "plt.ylabel(\"Number of credits\")\n",
    "plt.title(\"The number of credits depending on the age\")\n",
    "plt.show()"
   ]
  },
  {
   "cell_type": "code",
   "execution_count": 50,
   "metadata": {
    "collapsed": false
   },
   "outputs": [
    {
     "data": {
      "text/html": [
       "<div>\n",
       "<table border=\"1\" class=\"dataframe\">\n",
       "  <thead>\n",
       "    <tr style=\"text-align: right;\">\n",
       "      <th>default</th>\n",
       "      <th>0</th>\n",
       "      <th>1</th>\n",
       "    </tr>\n",
       "  </thead>\n",
       "  <tbody>\n",
       "    <tr>\n",
       "      <th>0</th>\n",
       "      <td>NaN</td>\n",
       "      <td>24.0</td>\n",
       "    </tr>\n",
       "    <tr>\n",
       "      <th>1</th>\n",
       "      <td>NaN</td>\n",
       "      <td>26.0</td>\n",
       "    </tr>\n",
       "    <tr>\n",
       "      <th>2</th>\n",
       "      <td>34.0</td>\n",
       "      <td>NaN</td>\n",
       "    </tr>\n",
       "    <tr>\n",
       "      <th>3</th>\n",
       "      <td>37.0</td>\n",
       "      <td>NaN</td>\n",
       "    </tr>\n",
       "    <tr>\n",
       "      <th>4</th>\n",
       "      <td>57.0</td>\n",
       "      <td>NaN</td>\n",
       "    </tr>\n",
       "  </tbody>\n",
       "</table>\n",
       "</div>"
      ],
      "text/plain": [
       "default     0     1\n",
       "0         NaN  24.0\n",
       "1         NaN  26.0\n",
       "2        34.0   NaN\n",
       "3        37.0   NaN\n",
       "4        57.0   NaN"
      ]
     },
     "execution_count": 50,
     "metadata": {},
     "output_type": "execute_result"
    }
   ],
   "source": [
    "pv_limit_age = data.pivot(values='AGE', columns='default')\n",
    "pv_limit_age.head()"
   ]
  },
  {
   "cell_type": "code",
   "execution_count": 51,
   "metadata": {
    "collapsed": false
   },
   "outputs": [
    {
     "data": {
      "image/png": "[encoded data removed]",
      "text/plain": [
       "<matplotlib.figure.Figure at 0x10c108198>"
      ]
     },
     "metadata": {},
     "output_type": "display_data"
    }
   ],
   "source": [
    "pv_limit_age.plot.hist(stacked=True, color='rg')\n",
    "plt.xlabel(\"Age\")\n",
    "plt.ylabel(\"Number of credits\")\n",
    "plt.title(\"The number of credits depending on age\")\n",
    "plt.grid()\n",
    "plt.show()"
   ]
  },
  {
   "cell_type": "code",
   "execution_count": 52,
   "metadata": {
    "collapsed": false
   },
   "outputs": [
    {
     "data": {
      "image/png": "[encoded data removed]",
      "text/plain": [
       "<matplotlib.figure.Figure at 0x1045f64a8>"
      ]
     },
     "metadata": {},
     "output_type": "display_data"
    }
   ],
   "source": [
    "pv_limit_age.plot.box(vert=False)\n",
    "plt.xlabel(\"Limit balance\")\n",
    "plt.ylabel(\"default\")\n",
    "plt.title(\"Limit balance boxplot\")\n",
    "plt.grid()\n",
    "plt.show()"
   ]
  },
  {
   "cell_type": "code",
   "execution_count": 53,
   "metadata": {
    "collapsed": true
   },
   "outputs": [],
   "source": [
    "repayment_age = data[data['default'] == 0]['AGE']  # выборка по возрастам для вернувших кредит\n",
    "default_age = data[data['default'] == 1]['AGE']  # выборка по возрвстам для НЕ вернувших кредит\n",
    "\n",
    "repayment_age_median = repayment_age.median()\n",
    "default_age_median = default_age.median()"
   ]
  },
  {
   "cell_type": "code",
   "execution_count": 54,
   "metadata": {
    "collapsed": true
   },
   "outputs": [],
   "source": [
    "repayment_age_interval = tconfint_median(repayment_age, alpha)\n",
    "default_age_interval = tconfint_median(default_age, alpha)"
   ]
  },
  {
   "cell_type": "code",
   "execution_count": 55,
   "metadata": {
    "collapsed": false
   },
   "outputs": [
    {
     "name": "stdout",
     "output_type": "stream",
     "text": [
      "Точечная оценка медианы возраста\n",
      "Медиана возраста для вернувших кредит:         34.00\n",
      "Медиана возраста для НЕ вернувших кредит:      34.00\n",
      "\n",
      "Интервальная оценка медианы возраста\n",
      "95.0% доверительный интервал медианы для вернувших кредит:    [     34.00,      34.00]\n",
      "95.0% доверительный интервал медианы для НЕ вернувших кредит: [     34.00,      35.00]\n"
     ]
    }
   ],
   "source": [
    "print(\"Точечная оценка медианы возраста\")\n",
    "print(\"Медиана возраста для вернувших кредит:    {:10.2f}\".format(repayment_age_median))\n",
    "print(\"Медиана возраста для НЕ вернувших кредит: {:10.2f}\".format(default_age_median))\n",
    "print()\n",
    "print(\"Интервальная оценка медианы возраста\")\n",
    "print(\"{}% доверительный интервал медианы для вернувших кредит:    [{:10.2f}, {:10.2f}]\".format(\n",
    "            (1 - alpha) * 100, *repayment_age_interval))\n",
    "print(\"{}% доверительный интервал медианы для НЕ вернувших кредит: [{:10.2f}, {:10.2f}]\".format(\n",
    "            (1 - alpha) * 100, *default_age_interval))"
   ]
  },
  {
   "cell_type": "markdown",
   "metadata": {},
   "source": [
    "Применим bootstrap"
   ]
  },
  {
   "cell_type": "code",
   "execution_count": 56,
   "metadata": {
    "collapsed": false
   },
   "outputs": [
    {
     "name": "stdout",
     "output_type": "stream",
     "text": [
      "95.0% доверительный интервал медианы для вернувших кредит:    [     34.00,      34.00]\n",
      "95.0% доверительный интервал медианы для НЕ вернувших кредит: [     34.00,      35.00]\n"
     ]
    }
   ],
   "source": [
    "repayment_median_scores = list(map(np.median, get_bootstrap_samples(repayment_age.values, 1000)))\n",
    "default_median_scores = list(map(np.median, get_bootstrap_samples(default_age.values, 1000)))\n",
    "\n",
    "print(\"{}% доверительный интервал медианы для вернувших кредит:    [{:10.2f}, {:10.2f}]\".format(\n",
    "            (1 - alpha) * 100, *stat_intervals(repayment_median_scores, alpha)))\n",
    "print(\"{}% доверительный интервал медианы для НЕ вернувших кредит: [{:10.2f}, {:10.2f}]\".format(\n",
    "            (1 - alpha) * 100, *stat_intervals(default_median_scores, alpha)))"
   ]
  },
  {
   "cell_type": "markdown",
   "metadata": {},
   "source": [
    "Обе методики дали одинаковый результат."
   ]
  },
  {
   "cell_type": "markdown",
   "metadata": {},
   "source": [
    "Медианы возраста вернувших и не вернувших кредиты совпадают, а их интервальные оценки - неодинаковы и пересекаются. Нельзя дать однозначный ответ о равенстве медиан."
   ]
  },
  {
   "cell_type": "markdown",
   "metadata": {},
   "source": [
    "Применим перестановочный критерий для оценки равенства медиан возрастов в каждой группе."
   ]
  },
  {
   "cell_type": "markdown",
   "metadata": {},
   "source": [
    "Гипотезы:\n",
    "\n",
    "$H_0$: медианы возраста одинаковы для вернувших и не вернувших кредит <br />\n",
    "$H_1$: медианы возраста отличается в этих двух группах."
   ]
  },
  {
   "cell_type": "code",
   "execution_count": 57,
   "metadata": {
    "collapsed": false
   },
   "outputs": [
    {
     "name": "stdout",
     "output_type": "stream",
     "text": [
      "Достигаемый уровень значимости перестановочного критерия: 0.0148\n",
      "На уровне значимости 0.05 нулевая гипотеза отвергается\n"
     ]
    }
   ],
   "source": [
    "pval = permutation_test_ind(repayment_age, default_age, max_permutations=10000)\n",
    "print(\"Достигаемый уровень значимости перестановочного критерия: {}\".format(pval))\n",
    "print(\"На уровне значимости {} нулевая гипотеза {}\".format(alpha, \"отвергается\" if pval < alpha else \"НЕ отвергается\"))"
   ]
  },
  {
   "cell_type": "markdown",
   "metadata": {},
   "source": [
    "\n",
    "Попробуем применить критерий Стьюдента к гипотезам, указанным выше. В случае нормального распределения медиана равна мат.ожиданию, поэтому применить критерий Стьюдента для проверки равенства медиан выборок правомерно.\n",
    "\n",
    "Критерий Стьюдента требует нормального распределения значений в выборках. Оценим нормальность на основании на основании ку-ку графика. "
   ]
  },
  {
   "cell_type": "code",
   "execution_count": 58,
   "metadata": {
    "collapsed": false
   },
   "outputs": [
    {
     "data": {
      "image/png": "[encoded data removed]",
      "text/plain": [
       "<matplotlib.figure.Figure at 0x10c092b38>"
      ]
     },
     "metadata": {},
     "output_type": "display_data"
    }
   ],
   "source": [
    "plt.figure(figsize=(12,8))\n",
    "plt.subplot(2,2,1)\n",
    "stats.probplot(pv_limit_age[0].dropna(), dist=\"norm\", plot=plt)\n",
    "\n",
    "plt.subplot(2,2,2)\n",
    "stats.probplot(pv_limit_age[1].dropna(), dist=\"norm\", plot=plt)\n",
    "plt.show()"
   ]
  },
  {
   "cell_type": "markdown",
   "metadata": {},
   "source": [
    "Выборки не сильно отличаются от нормальных. Функция вычисления критерия Шапиро-Уилка в ** scipy ** не работает с выборками более 5000, поэтому проверить на нормальность с помощью этого критерия не получится (выборка слишком большая).\n"
   ]
  },
  {
   "cell_type": "code",
   "execution_count": 59,
   "metadata": {
    "collapsed": false
   },
   "outputs": [
    {
     "name": "stdout",
     "output_type": "stream",
     "text": [
      "Достигаемый уровень значимости перестановочного критерия: 0.02038649025587463\n",
      "На уровне значимости 0.05 нулевая гипотеза отвергается\n"
     ]
    }
   ],
   "source": [
    "st, pval = stats.ttest_ind(repayment_age, default_age, equal_var = False)\n",
    "print(\"Достигаемый уровень значимости перестановочного критерия: {}\".format(pval))\n",
    "print(\"На уровне значимости {} нулевая гипотеза {}\".format(alpha, \"отвергается\" if pval < alpha else \"НЕ отвергается\"))"
   ]
  },
  {
   "cell_type": "markdown",
   "metadata": {},
   "source": [
    "** Выводы **"
   ]
  },
  {
   "cell_type": "markdown",
   "metadata": {},
   "source": [
    "* медианные значения возрастов групп на заданном уровне значимости не равны;\n",
    "* результат не имеет практической значимости, т.к. разница в медиане возраста слишком мала для оценки надёжности заёмщика."
   ]
  },
  {
   "cell_type": "code",
   "execution_count": null,
   "metadata": {
    "collapsed": true
   },
   "outputs": [],
   "source": []
  }
 ],
 "metadata": {
  "kernelspec": {
   "display_name": "Python 2",
   "language": "python",
   "name": "python2"
  },
  "language_info": {
   "codemirror_mode": {
    "name": "ipython",
    "version": 2
   },
   "file_extension": ".py",
   "mimetype": "text/x-python",
   "name": "python",
   "nbconvert_exporter": "python",
   "pygments_lexer": "ipython2",
   "version": "2.7.12"
  }
 },
 "nbformat": 4,
 "nbformat_minor": 0
}
