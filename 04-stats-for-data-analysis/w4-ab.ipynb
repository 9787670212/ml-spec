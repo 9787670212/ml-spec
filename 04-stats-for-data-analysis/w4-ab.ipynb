{
 "cells": [
  {
   "cell_type": "code",
   "execution_count": 15,
   "metadata": {
    "collapsed": true
   },
   "outputs": [],
   "source": [
    "import pandas as pd\n",
    "import numpy as np\n",
    "\n",
    "from scipy import stats\n",
    "import matplotlib.pyplot as plt\n",
    "\n",
    "%matplotlib inline"
   ]
  },
  {
   "cell_type": "code",
   "execution_count": 2,
   "metadata": {
    "collapsed": true
   },
   "outputs": [],
   "source": [
    "data = pd.read_csv('ab_browser_test.csv')"
   ]
  },
  {
   "cell_type": "code",
   "execution_count": 3,
   "metadata": {
    "collapsed": false
   },
   "outputs": [
    {
     "data": {
      "text/html": [
       "<div>\n",
       "<table border=\"1\" class=\"dataframe\">\n",
       "  <thead>\n",
       "    <tr style=\"text-align: right;\">\n",
       "      <th></th>\n",
       "      <th>userID</th>\n",
       "      <th>n_clicks</th>\n",
       "      <th>n_queries</th>\n",
       "      <th>n_nonclk_queries</th>\n",
       "    </tr>\n",
       "  </thead>\n",
       "  <tbody>\n",
       "    <tr>\n",
       "      <th>count</th>\n",
       "      <td>566134.000000</td>\n",
       "      <td>566134.000000</td>\n",
       "      <td>566134.000000</td>\n",
       "      <td>566134.000000</td>\n",
       "    </tr>\n",
       "    <tr>\n",
       "      <th>mean</th>\n",
       "      <td>301377.214027</td>\n",
       "      <td>11.431658</td>\n",
       "      <td>10.720524</td>\n",
       "      <td>4.703987</td>\n",
       "    </tr>\n",
       "    <tr>\n",
       "      <th>std</th>\n",
       "      <td>175526.333101</td>\n",
       "      <td>20.251494</td>\n",
       "      <td>16.262827</td>\n",
       "      <td>8.109958</td>\n",
       "    </tr>\n",
       "    <tr>\n",
       "      <th>min</th>\n",
       "      <td>1.000000</td>\n",
       "      <td>0.000000</td>\n",
       "      <td>1.000000</td>\n",
       "      <td>0.000000</td>\n",
       "    </tr>\n",
       "    <tr>\n",
       "      <th>25%</th>\n",
       "      <td>148627.250000</td>\n",
       "      <td>1.000000</td>\n",
       "      <td>2.000000</td>\n",
       "      <td>1.000000</td>\n",
       "    </tr>\n",
       "    <tr>\n",
       "      <th>50%</th>\n",
       "      <td>299362.500000</td>\n",
       "      <td>4.000000</td>\n",
       "      <td>5.000000</td>\n",
       "      <td>2.000000</td>\n",
       "    </tr>\n",
       "    <tr>\n",
       "      <th>75%</th>\n",
       "      <td>455698.750000</td>\n",
       "      <td>13.000000</td>\n",
       "      <td>13.000000</td>\n",
       "      <td>6.000000</td>\n",
       "    </tr>\n",
       "    <tr>\n",
       "      <th>max</th>\n",
       "      <td>603137.000000</td>\n",
       "      <td>863.000000</td>\n",
       "      <td>665.000000</td>\n",
       "      <td>581.000000</td>\n",
       "    </tr>\n",
       "  </tbody>\n",
       "</table>\n",
       "</div>"
      ],
      "text/plain": [
       "              userID       n_clicks      n_queries  n_nonclk_queries\n",
       "count  566134.000000  566134.000000  566134.000000     566134.000000\n",
       "mean   301377.214027      11.431658      10.720524          4.703987\n",
       "std    175526.333101      20.251494      16.262827          8.109958\n",
       "min         1.000000       0.000000       1.000000          0.000000\n",
       "25%    148627.250000       1.000000       2.000000          1.000000\n",
       "50%    299362.500000       4.000000       5.000000          2.000000\n",
       "75%    455698.750000      13.000000      13.000000          6.000000\n",
       "max    603137.000000     863.000000     665.000000        581.000000"
      ]
     },
     "execution_count": 3,
     "metadata": {},
     "output_type": "execute_result"
    }
   ],
   "source": [
    "data.describe()"
   ]
  },
  {
   "cell_type": "code",
   "execution_count": 5,
   "metadata": {
    "collapsed": false
   },
   "outputs": [
    {
     "data": {
      "text/html": [
       "<div>\n",
       "<table border=\"1\" class=\"dataframe\">\n",
       "  <thead>\n",
       "    <tr style=\"text-align: right;\">\n",
       "      <th></th>\n",
       "      <th>userID</th>\n",
       "      <th>browser</th>\n",
       "      <th>slot</th>\n",
       "      <th>n_clicks</th>\n",
       "      <th>n_queries</th>\n",
       "      <th>n_nonclk_queries</th>\n",
       "    </tr>\n",
       "  </thead>\n",
       "  <tbody>\n",
       "    <tr>\n",
       "      <th>0</th>\n",
       "      <td>1</td>\n",
       "      <td>Browser #2</td>\n",
       "      <td>exp</td>\n",
       "      <td>23</td>\n",
       "      <td>32</td>\n",
       "      <td>19</td>\n",
       "    </tr>\n",
       "    <tr>\n",
       "      <th>1</th>\n",
       "      <td>3</td>\n",
       "      <td>Browser #4</td>\n",
       "      <td>exp</td>\n",
       "      <td>3</td>\n",
       "      <td>4</td>\n",
       "      <td>2</td>\n",
       "    </tr>\n",
       "    <tr>\n",
       "      <th>2</th>\n",
       "      <td>5</td>\n",
       "      <td>Browser #4</td>\n",
       "      <td>exp</td>\n",
       "      <td>29</td>\n",
       "      <td>35</td>\n",
       "      <td>16</td>\n",
       "    </tr>\n",
       "    <tr>\n",
       "      <th>3</th>\n",
       "      <td>6</td>\n",
       "      <td>Browser #4</td>\n",
       "      <td>control</td>\n",
       "      <td>12</td>\n",
       "      <td>6</td>\n",
       "      <td>0</td>\n",
       "    </tr>\n",
       "    <tr>\n",
       "      <th>4</th>\n",
       "      <td>7</td>\n",
       "      <td>Browser #4</td>\n",
       "      <td>exp</td>\n",
       "      <td>54</td>\n",
       "      <td>68</td>\n",
       "      <td>30</td>\n",
       "    </tr>\n",
       "  </tbody>\n",
       "</table>\n",
       "</div>"
      ],
      "text/plain": [
       "   userID     browser     slot  n_clicks  n_queries  n_nonclk_queries\n",
       "0       1  Browser #2      exp        23         32                19\n",
       "1       3  Browser #4      exp         3          4                 2\n",
       "2       5  Browser #4      exp        29         35                16\n",
       "3       6  Browser #4  control        12          6                 0\n",
       "4       7  Browser #4      exp        54         68                30"
      ]
     },
     "execution_count": 5,
     "metadata": {},
     "output_type": "execute_result"
    }
   ],
   "source": [
    "data.head()"
   ]
  },
  {
   "cell_type": "code",
   "execution_count": 4,
   "metadata": {
    "collapsed": false
   },
   "outputs": [
    {
     "name": "stdout",
     "output_type": "stream",
     "text": [
      "281580\n",
      "284554\n"
     ]
    }
   ],
   "source": [
    "exp = data[data.slot=='exp']\n",
    "print len(exp)\n",
    "control = data[data.slot=='control']\n",
    "print len(control)"
   ]
  },
  {
   "cell_type": "code",
   "execution_count": 11,
   "metadata": {
    "collapsed": false
   },
   "outputs": [
    {
     "data": {
      "text/plain": [
       "1.6135689824415822"
      ]
     },
     "execution_count": 11,
     "metadata": {},
     "output_type": "execute_result"
    }
   ],
   "source": [
    "(sum(exp.n_clicks)*1./sum(control.n_clicks)-1)*100"
   ]
  },
  {
   "cell_type": "code",
   "execution_count": 13,
   "metadata": {
    "collapsed": false
   },
   "outputs": [
    {
     "name": "stdout",
     "output_type": "stream",
     "text": [
      "EXP: mean = 11.5840; median = 5.0000\n",
      "CONTROL: mean = 11.2809; median = 4.0000\n"
     ]
    }
   ],
   "source": [
    "exp_mean = np.mean(exp.n_clicks)\n",
    "exp_med = np.median(exp.n_clicks)\n",
    "print \"EXP: mean = %.4f; median = %.4f\" % (exp_mean, exp_med)\n",
    "c_mean = np.mean(control.n_clicks)\n",
    "c_med = np.median(control.n_clicks)\n",
    "print \"CONTROL: mean = %.4f; median = %.4f\" % (c_mean, c_med)"
   ]
  },
  {
   "cell_type": "code",
   "execution_count": 18,
   "metadata": {
    "collapsed": false
   },
   "outputs": [
    {
     "data": {
      "image/png": "[encoded data removed]",
      "text/plain": [
       "<matplotlib.figure.Figure at 0x7fc116d0d750>"
      ]
     },
     "metadata": {},
     "output_type": "display_data"
    }
   ],
   "source": [
    "plt.figure(figsize=(15,5))\n",
    "plt.subplot(1,2,1)\n",
    "plt.hist(exp.n_clicks, bins=30)\n",
    "plt.axvline(exp_mean, color='r', linestyle='dashed', linewidth=2)\n",
    "plt.axvline(exp_med, color='g', linestyle='dashed', linewidth=2)\n",
    "plt.xlabel(\"clicks\")\n",
    "plt.ylabel(\"count\")\n",
    "plt.title(\"n clicks for EXP\")\n",
    "\n",
    "plt.subplot(1,2,2)\n",
    "plt.hist(control.n_clicks, bins=30)\n",
    "plt.xlabel(\"clicks\")\n",
    "plt.ylabel(\"count\")\n",
    "plt.title(\"n clicks for CONTROL\")\n",
    "plt.axvline(c_mean, color='r', linestyle='dashed', linewidth=2)\n",
    "plt.axvline(c_med, color='g', linestyle='dashed', linewidth=2)\n",
    "\n",
    "plt.show()"
   ]
  },
  {
   "cell_type": "code",
   "execution_count": 19,
   "metadata": {
    "collapsed": true
   },
   "outputs": [],
   "source": [
    "def get_bootstrap_samples(data, n_samples):\n",
    "    indices = np.random.randint(0, len(data), (n_samples, len(data)))\n",
    "    samples = data[indices]\n",
    "    return samples"
   ]
  },
  {
   "cell_type": "code",
   "execution_count": 21,
   "metadata": {
    "collapsed": true
   },
   "outputs": [],
   "source": [
    "def stat_intervals(stat, alpha=0.05):\n",
    "    boundaries = np.percentile(stat, [100 * alpha / 2., 100 * (1 - alpha / 2.)])\n",
    "    return boundaries"
   ]
  },
  {
   "cell_type": "code",
   "execution_count": 28,
   "metadata": {
    "collapsed": false
   },
   "outputs": [
    {
     "name": "stdout",
     "output_type": "stream",
     "text": [
      "[23  3 29 ...,  4  4  3]\n"
     ]
    }
   ],
   "source": [
    "print np.array(exp.n_clicks.values)"
   ]
  },
  {
   "cell_type": "code",
   "execution_count": 29,
   "metadata": {
    "collapsed": false
   },
   "outputs": [
    {
     "name": "stdout",
     "output_type": "stream",
     "text": [
      "95% confidence interval for Exp group: [ 5.  5.]\n",
      "95% confidence interval for Control group: [ 4.  4.]\n"
     ]
    }
   ],
   "source": [
    "np.random.seed(123)\n",
    "\n",
    "exp_n_clicks = np.array(exp.n_clicks.values)\n",
    "c_n_clicks = np.array(control.n_clicks.values)\n",
    "\n",
    "exp_median_scores = np.median(get_bootstrap_samples(exp_n_clicks, 500), axis=1)\n",
    "c_median_scores = np.median(get_bootstrap_samples(c_n_clicks, 500), axis=1)\n",
    "\n",
    "print \"95% confidence interval for Exp group:\",  stat_intervals(exp_median_scores)\n",
    "print \"95% confidence interval for Control group:\",  stat_intervals(c_median_scores)"
   ]
  },
  {
   "cell_type": "code",
   "execution_count": 30,
   "metadata": {
    "collapsed": false
   },
   "outputs": [
    {
     "name": "stdout",
     "output_type": "stream",
     "text": [
      "('95% confidence interval for difference median:', array([ 1.,  1.]))\n"
     ]
    }
   ],
   "source": [
    "median_scores = map(lambda x: x[0] - x[1], zip(exp_median_scores, c_median_scores))\n",
    "print (\"95% confidence interval for difference median:\",  stat_intervals(median_scores))"
   ]
  },
  {
   "cell_type": "code",
   "execution_count": 31,
   "metadata": {
    "collapsed": false
   },
   "outputs": [
    {
     "name": "stdout",
     "output_type": "stream",
     "text": [
      "95% confidence interval for Exp group: [ 11.51651342  11.66053004]\n",
      "95% confidence interval for Control group: [ 11.20560816  11.35528713]\n"
     ]
    }
   ],
   "source": [
    "np.random.seed(123)\n",
    "\n",
    "exp_mean_scores = np.mean(get_bootstrap_samples(exp_n_clicks, 500), axis=1)\n",
    "c_mean_scores = np.mean(get_bootstrap_samples(c_n_clicks, 500), axis=1)\n",
    "\n",
    "print \"95% confidence interval for Exp group:\",  stat_intervals(exp_mean_scores)\n",
    "print \"95% confidence interval for Control group:\",  stat_intervals(c_mean_scores)"
   ]
  },
  {
   "cell_type": "code",
   "execution_count": 32,
   "metadata": {
    "collapsed": false
   },
   "outputs": [
    {
     "name": "stdout",
     "output_type": "stream",
     "text": [
      "('95% confidence interval for difference mean:', array([ 0.20274804,  0.40479205]))\n"
     ]
    }
   ],
   "source": [
    "mean_scores = map(lambda x: x[0] - x[1], zip(exp_mean_scores, c_mean_scores))\n",
    "print (\"95% confidence interval for difference mean:\",  stat_intervals(mean_scores))"
   ]
  },
  {
   "cell_type": "code",
   "execution_count": 33,
   "metadata": {
    "collapsed": true
   },
   "outputs": [],
   "source": [
    "np.random.seed(0)\n",
    "n_boot_samples = 500\n",
    "\n",
    "c_samples = get_bootstrap_samples(c_n_clicks, n_boot_samples)"
   ]
  },
  {
   "cell_type": "code",
   "execution_count": 43,
   "metadata": {
    "collapsed": false
   },
   "outputs": [
    {
     "name": "stdout",
     "output_type": "stream",
     "text": [
      "284554\n"
     ]
    }
   ],
   "source": [
    "print len(c_samples[1])"
   ]
  },
  {
   "cell_type": "code",
   "execution_count": 59,
   "metadata": {
    "collapsed": false
   },
   "outputs": [],
   "source": [
    "control_boot_mean = np.mean(c_samples, axis=1)\n",
    "control_boot_chi_squared = np.var(c_samples,axis=1) #np.power(c_samples-np.reshape(np.repeat(np.sum(c_samples,axis=1),284554),(500,284554)),2), axis=1)"
   ]
  },
  {
   "cell_type": "code",
   "execution_count": 60,
   "metadata": {
    "collapsed": false
   },
   "outputs": [
    {
     "data": {
      "text/plain": [
       "(500,)"
      ]
     },
     "execution_count": 60,
     "metadata": {},
     "output_type": "execute_result"
    }
   ],
   "source": [
    "control_boot_chi_squared.shape"
   ]
  },
  {
   "cell_type": "code",
   "execution_count": 61,
   "metadata": {
    "collapsed": true
   },
   "outputs": [],
   "source": [
    "import scipy"
   ]
  },
  {
   "cell_type": "code",
   "execution_count": 62,
   "metadata": {
    "collapsed": false,
    "scrolled": true
   },
   "outputs": [
    {
     "data": {
      "text/plain": [
       "((array([ 409.75447609,  417.6076492 ,  422.06789456,  425.24996033,\n",
       "          427.75458277,  429.83540071,  431.6244473 ,  433.19958802,\n",
       "          434.61075771,  435.89197548,  437.06750372,  438.15527962,\n",
       "          439.16895419,  440.11916758,  441.0143809 ,  441.86143812,\n",
       "          442.66595697,  443.43260794,  444.16531782,  444.86742108,\n",
       "          445.54177438,  446.19084464,  446.81677748,  447.42145127,\n",
       "          448.00652022,  448.57344901,  449.12354099,  449.6579613 ,\n",
       "          450.17775596,  450.68386771,  451.17714938,  451.65837504,\n",
       "          452.12824958,  452.58741674,  453.03646615,  453.47593922,\n",
       "          453.90633437,  454.32811152,  454.74169597,  455.14748186,\n",
       "          455.54583518,  455.93709642,  456.3215829 ,  456.69959087,\n",
       "          457.07139736,  457.43726183,  457.79742761,  458.1521233 ,\n",
       "          458.50156388,  458.84595184,  459.1854781 ,  459.52032292,\n",
       "          459.85065667,  460.17664058,  460.49842735,  460.81616179,\n",
       "          461.12998133,  461.44001656,  461.74639164,  462.04922476,\n",
       "          462.3486285 ,  462.64471019,  462.93757225,  463.22731247,\n",
       "          463.51402431,  463.79779714,  464.07871649,  464.35686427,\n",
       "          464.63231897,  464.90515586,  465.17544715,  465.44326219,\n",
       "          465.70866759,  465.97172738,  466.23250314,  466.49105414,\n",
       "          466.74743742,  467.00170797,  467.25391874,  467.50412083,\n",
       "          467.75236352,  467.99869437,  468.24315933,  468.48580276,\n",
       "          468.72666756,  468.9657952 ,  469.20322579,  469.43899817,\n",
       "          469.67314992,  469.90571743,  470.13673598,  470.36623974,\n",
       "          470.59426187,  470.82083452,  471.04598887,  471.26975521,\n",
       "          471.49216293,  471.71324059,  471.93301594,  472.15151593,\n",
       "          472.36876679,  472.58479402,  472.79962241,  473.01327612,\n",
       "          473.22577862,  473.43715282,  473.64742098,  473.85660482,\n",
       "          474.06472549,  474.27180363,  474.47785934,  474.68291223,\n",
       "          474.88698145,  475.09008566,  475.29224309,  475.49347153,\n",
       "          475.69378836,  475.89321056,  476.09175471,  476.28943702,\n",
       "          476.48627333,  476.68227913,  476.87746958,  477.07185948,\n",
       "          477.26546334,  477.45829534,  477.65036938,  477.84169905,\n",
       "          478.03229766,  478.22217826,  478.41135362,  478.59983627,\n",
       "          478.78763846,  478.97477223,  479.16124937,  479.34708144,\n",
       "          479.5322798 ,  479.71685555,  479.90081964,  480.08418277,\n",
       "          480.26695546,  480.44914804,  480.63077065,  480.81183327,\n",
       "          480.99234567,  481.17231747,  481.35175812,  481.53067691,\n",
       "          481.70908297,  481.88698529,  482.06439268,  482.24131385,\n",
       "          482.41775732,  482.59373152,  482.76924472,  482.94430506,\n",
       "          483.11892057,  483.29309913,  483.46684854,  483.64017644,\n",
       "          483.81309039,  483.98559783,  484.15770608,  484.32942237,\n",
       "          484.50075382,  484.67170745,  484.8422902 ,  485.01250889,\n",
       "          485.18237027,  485.35188099,  485.5210476 ,  485.68987659,\n",
       "          485.85837436,  486.02654722,  486.1944014 ,  486.36194308,\n",
       "          486.52917832,  486.69611315,  486.86275351,  487.02910527,\n",
       "          487.19517424,  487.36096615,  487.52648669,  487.69174147,\n",
       "          487.85673604,  488.02147589,  488.18596648,  488.35021316,\n",
       "          488.51422128,  488.67799611,  488.84154287,  489.00486673,\n",
       "          489.16797282,  489.33086621,  489.49355193,  489.65603496,\n",
       "          489.81832026,  489.98041271,  490.14231717,  490.30403846,\n",
       "          490.46558136,  490.62695061,  490.78815091,  490.94918693,\n",
       "          491.1100633 ,  491.27078462,  491.43135545,  491.59178034,\n",
       "          491.75206378,  491.91221026,  492.07222421,  492.23211006,\n",
       "          492.39187219,  492.55151498,  492.71104276,  492.87045985,\n",
       "          493.02977055,  493.18897913,  493.34808983,  493.50710688,\n",
       "          493.6660345 ,  493.82487688,  493.98363818,  494.14232257,\n",
       "          494.30093417,  494.45947713,  494.61795553,  494.77637348,\n",
       "          494.93473505,  495.09304432,  495.25130533,  495.40952214,\n",
       "          495.56769878,  495.72583927,  495.88394762,  496.04202785,\n",
       "          496.20008395,  496.35811992,  496.51613974,  496.67414739,\n",
       "          496.83214685,  496.9901421 ,  497.1481371 ,  497.30613582,\n",
       "          497.46414222,  497.62216027,  497.78019393,  497.93824716,\n",
       "          498.09632394,  498.25442821,  498.41256396,  498.57073516,\n",
       "          498.72894577,  498.88719979,  499.04550118,  499.20385395,\n",
       "          499.36226209,  499.52072961,  499.67926051,  499.83785882,\n",
       "          499.99652857,  500.15527379,  500.31409855,  500.47300689,\n",
       "          500.6320029 ,  500.79109066,  500.95027428,  501.10955787,\n",
       "          501.26894556,  501.4284415 ,  501.58804986,  501.74777481,\n",
       "          501.90762055,  502.06759131,  502.22769132,  502.38792485,\n",
       "          502.54829617,  502.7088096 ,  502.86946945,  503.03028007,\n",
       "          503.19124585,  503.35237119,  503.51366051,  503.67511828,\n",
       "          503.83674897,  503.99855711,  504.16054723,  504.32272391,\n",
       "          504.48509177,  504.64765544,  504.8104196 ,  504.97338897,\n",
       "          505.13656828,  505.29996234,  505.46357595,  505.62741399,\n",
       "          505.79148136,  505.955783  ,  506.12032391,  506.28510912,\n",
       "          506.4501437 ,  506.61543279,  506.78098155,  506.94679522,\n",
       "          507.11287906,  507.27923839,  507.4458786 ,  507.61280512,\n",
       "          507.78002343,  507.94753908,  508.11535769,  508.2834849 ,\n",
       "          508.45192645,  508.62068813,  508.78977579,  508.95919536,\n",
       "          509.12895283,  509.29905425,  509.46950577,  509.64031358,\n",
       "          509.81148398,  509.98302331,  510.15493802,  510.32723463,\n",
       "          510.49991974,  510.67300005,  510.84648233,  511.02037346,\n",
       "          511.19468038,  511.36941017,  511.54456996,  511.72016701,\n",
       "          511.89620869,  512.07270243,  512.24965583,  512.42707654,\n",
       "          512.60497236,  512.7833512 ,  512.96222108,  513.14159016,\n",
       "          513.32146669,  513.50185909,  513.68277589,  513.86422576,\n",
       "          514.0462175 ,  514.22876007,  514.41186257,  514.59553423,\n",
       "          514.77978447,  514.96462286,  515.1500591 ,  515.33610309,\n",
       "          515.52276491,  515.71005479,  515.89798315,  516.0865606 ,\n",
       "          516.27579795,  516.4657062 ,  516.65629654,  516.8475804 ,\n",
       "          517.03956939,  517.23227537,  517.42571041,  517.61988681,\n",
       "          517.81481714,  518.01051419,  518.20699101,  518.40426091,\n",
       "          518.6023375 ,  518.80123463,  519.00096646,  519.20154744,\n",
       "          519.40299233,  519.6053162 ,  519.80853445,  520.01266282,\n",
       "          520.21771737,  520.42371455,  520.63067116,  520.83860438,\n",
       "          521.04753181,  521.25747141,  521.4684416 ,  521.68046121,\n",
       "          521.89354953,  522.10772631,  522.32301178,  522.53942666,\n",
       "          522.7569922 ,  522.97573016,  523.19566287,  523.41681322,\n",
       "          523.63920469,  523.86286137,  524.08780801,  524.31406997,\n",
       "          524.54167335,  524.77064492,  525.0010122 ,  525.23280347,\n",
       "          525.46604781,  525.70077513,  525.93701619,  526.17480264,\n",
       "          526.41416707,  526.65514303,  526.89776509,  527.14206885,\n",
       "          527.38809102,  527.63586946,  527.88544319,  528.13685249,\n",
       "          528.39013894,  528.64534548,  528.90251646,  529.16169769,\n",
       "          529.42293658,  529.68628211,  529.95178499,  530.21949771,\n",
       "          530.48947461,  530.76177201,  531.03644828,  531.31356394,\n",
       "          531.5931818 ,  531.87536703,  532.16018736,  532.44771312,\n",
       "          532.73801745,  533.03117645,  533.3272693 ,  533.62637848,\n",
       "          533.92858993,  534.23399326,  534.54268197,  534.85475367,\n",
       "          535.17031035,  535.48945862,  535.81231003,  536.13898137,\n",
       "          536.469595  ,  536.80427924,  537.14316874,  537.48640494,\n",
       "          537.83413651,  538.18651989,  538.54371983,  538.90591001,\n",
       "          539.27327369,  539.64600445,  540.024307  ,  540.40839804,\n",
       "          540.79850724,  541.19487833,  541.59777025,  542.00745848,\n",
       "          542.4242365 ,  542.84841741,  543.28033575,  543.72034952,\n",
       "          544.16884245,  544.62622658,  545.09294513,  545.56947578,\n",
       "          546.05633439,  546.55407919,  547.06331567,  547.58470212,\n",
       "          548.11895597,  548.66686128,  549.22927728,  549.80714846,\n",
       "          550.40151635,  551.01353345,  551.6444798 ,  552.29578272,\n",
       "          552.96904058,  553.66605164,  554.3888492 ,  555.13974497,\n",
       "          555.92138291,  556.73680693,  557.58954684,  558.48372886,\n",
       "          559.42421968,  560.41681721,  561.46850732,  562.58781651,\n",
       "          563.7853068 ,  565.0742885 ,  566.4718777 ,  568.00062101,\n",
       "          569.6910998 ,  571.58632494,  573.74964871,  576.28025333,\n",
       "          579.34711248,  583.27672236,  588.8483932 ,  598.84337406]),\n",
       "  array([ 391.05442235,  392.46655131,  395.32546473,  396.847736  ,\n",
       "          397.56244187,  397.70262537,  398.05023175,  398.15181337,\n",
       "          398.52192942,  398.62751526,  398.84586136,  399.02821527,\n",
       "          399.1820384 ,  399.20495507,  399.31140263,  399.44031832,\n",
       "          399.47066877,  399.82790454,  400.11889993,  400.32487487,\n",
       "          400.36840728,  400.39104727,  400.54827169,  400.56253189,\n",
       "          400.71656486,  400.72805142,  400.97864554,  401.44411549,\n",
       "          401.66776935,  401.79911466,  401.87020592,  401.88502798,\n",
       "          401.96356755,  402.05059909,  402.1144463 ,  402.13450007,\n",
       "          402.14851803,  402.15446552,  402.2761937 ,  402.3146181 ,\n",
       "          402.3512163 ,  402.38656698,  402.4199274 ,  402.44003033,\n",
       "          402.60357941,  402.86144659,  403.05351501,  403.09042545,\n",
       "          403.10450486,  403.1059849 ,  403.16184978,  403.18305777,\n",
       "          403.19969063,  403.2202463 ,  403.31434323,  403.34913946,\n",
       "          403.52479012,  403.59884058,  403.60326969,  403.62980432,\n",
       "          403.64907911,  403.66033209,  403.73717412,  403.78043665,\n",
       "          403.95878674,  403.9882232 ,  404.01413359,  404.19938259,\n",
       "          404.27764791,  404.31838468,  404.37240103,  404.45911349,\n",
       "          404.46333896,  404.48265874,  404.55006151,  404.63412068,\n",
       "          404.63787325,  404.81174931,  404.95355973,  405.22470586,\n",
       "          405.26655535,  405.27114447,  405.30865875,  405.33983344,\n",
       "          405.36570013,  405.38290716,  405.4898726 ,  405.51228903,\n",
       "          405.52527764,  405.56847328,  405.57294112,  405.60873503,\n",
       "          405.79766269,  405.87100877,  405.88299412,  405.94781278,\n",
       "          406.16067417,  406.18583166,  406.19136201,  406.21203301,\n",
       "          406.28967102,  406.39053382,  406.45172636,  406.48364373,\n",
       "          406.52928772,  406.54999791,  406.56164752,  406.57353049,\n",
       "          406.64557017,  406.64930804,  406.67341415,  406.74111564,\n",
       "          406.79836549,  406.81596082,  406.88040973,  406.88041176,\n",
       "          406.94583361,  406.96325599,  406.98134143,  407.03671536,\n",
       "          407.11785007,  407.12019903,  407.21338844,  407.22928075,\n",
       "          407.25150193,  407.34697447,  407.36668263,  407.39784241,\n",
       "          407.42280159,  407.42377192,  407.46289133,  407.4888595 ,\n",
       "          407.58820652,  407.67390447,  407.67556882,  407.7164532 ,\n",
       "          407.79241905,  407.85171129,  407.86468318,  407.87759124,\n",
       "          407.96887295,  408.03380452,  408.03704872,  408.0481817 ,\n",
       "          408.0514532 ,  408.13436573,  408.17881956,  408.2341462 ,\n",
       "          408.24704482,  408.24805436,  408.28185061,  408.32101307,\n",
       "          408.32926562,  408.33544465,  408.35611805,  408.36119431,\n",
       "          408.37331301,  408.42024814,  408.43129356,  408.44273199,\n",
       "          408.44585509,  408.46074287,  408.48903147,  408.54864046,\n",
       "          408.57612622,  408.62552192,  408.68676534,  408.68875731,\n",
       "          408.69634146,  408.71382275,  408.72784827,  408.82247396,\n",
       "          408.84982941,  408.88842066,  408.97282375,  408.9988523 ,\n",
       "          409.08096056,  409.18149687,  409.19017922,  409.21400967,\n",
       "          409.21440618,  409.31117084,  409.38144038,  409.38865185,\n",
       "          409.44756231,  409.45256016,  409.4618545 ,  409.48853685,\n",
       "          409.51801045,  409.53057452,  409.53131122,  409.56416888,\n",
       "          409.57619128,  409.60621317,  409.61208838,  409.68551933,\n",
       "          409.69349526,  409.70406309,  409.71969207,  409.74096506,\n",
       "          409.79272251,  409.90194106,  409.98454115,  409.99633865,\n",
       "          409.99963364,  410.01501256,  410.07886529,  410.2293551 ,\n",
       "          410.31805688,  410.34673922,  410.35442399,  410.37377698,\n",
       "          410.37509618,  410.37581886,  410.39385821,  410.42539165,\n",
       "          410.48649649,  410.50679178,  410.53955513,  410.62450678,\n",
       "          410.65682743,  410.65829216,  410.68176734,  410.6981348 ,\n",
       "          410.69865046,  410.71609984,  410.7314744 ,  410.73188546,\n",
       "          410.816302  ,  410.88296451,  410.96770341,  411.01149387,\n",
       "          411.04201827,  411.04586559,  411.06754872,  411.11511271,\n",
       "          411.11768621,  411.18424737,  411.22433414,  411.27506992,\n",
       "          411.30181357,  411.3217548 ,  411.32346149,  411.33347628,\n",
       "          411.35299863,  411.36158068,  411.5013963 ,  411.50415761,\n",
       "          411.52536425,  411.55757755,  411.57047587,  411.57136694,\n",
       "          411.62784281,  411.64177039,  411.68215346,  411.69369723,\n",
       "          411.6982781 ,  411.80609108,  411.80879032,  411.82793687,\n",
       "          411.92533806,  411.92778721,  411.94978436,  411.95184599,\n",
       "          411.96079339,  411.96645797,  412.00484448,  412.01308568,\n",
       "          412.04183269,  412.24095799,  412.31901452,  412.40539759,\n",
       "          412.44749128,  412.46788158,  412.51017014,  412.52738175,\n",
       "          412.58669589,  412.61885395,  412.62304933,  412.65341605,\n",
       "          412.67643942,  412.75037736,  412.81462496,  412.88612579,\n",
       "          412.89095001,  412.92003731,  412.93446703,  412.95375517,\n",
       "          413.02657455,  413.03482626,  413.04799223,  413.07490578,\n",
       "          413.12708507,  413.15446437,  413.17137486,  413.19006389,\n",
       "          413.21377281,  413.27638058,  413.28979551,  413.30559264,\n",
       "          413.31669581,  413.33072441,  413.48470741,  413.55161421,\n",
       "          413.60992768,  413.63463752,  413.66516256,  413.67601291,\n",
       "          413.70348095,  413.71798149,  413.77202221,  413.82338061,\n",
       "          413.83107614,  413.86686485,  413.89562193,  413.89841602,\n",
       "          413.96399279,  413.98515461,  413.98597002,  414.06635023,\n",
       "          414.07611296,  414.09218609,  414.09972795,  414.15124341,\n",
       "          414.16958464,  414.18237503,  414.22994481,  414.29250949,\n",
       "          414.31461205,  414.33803126,  414.3993627 ,  414.40001637,\n",
       "          414.4277048 ,  414.47381367,  414.51331324,  414.65824842,\n",
       "          414.68444661,  414.70575115,  414.74107963,  414.87658473,\n",
       "          414.88741692,  414.8920996 ,  414.90547811,  414.91061771,\n",
       "          414.93000625,  414.94338093,  414.94522026,  414.98291518,\n",
       "          415.0239112 ,  415.05170364,  415.20396935,  415.21114301,\n",
       "          415.22106298,  415.26707069,  415.34604794,  415.36839638,\n",
       "          415.40481039,  415.41055936,  415.41399067,  415.48897598,\n",
       "          415.49406516,  415.55083891,  415.58935247,  415.59478834,\n",
       "          415.6328631 ,  415.65393978,  415.65473105,  415.68357705,\n",
       "          415.69979414,  415.81249706,  415.81561236,  415.83589405,\n",
       "          415.84903338,  415.89651252,  415.9056122 ,  415.93402631,\n",
       "          415.97592056,  416.01199024,  416.05247388,  416.11921519,\n",
       "          416.14890027,  416.15627892,  416.20776021,  416.22301137,\n",
       "          416.2857139 ,  416.31276233,  416.35367529,  416.38308113,\n",
       "          416.41373534,  416.41663923,  416.43019048,  416.4571224 ,\n",
       "          416.52372439,  416.58976561,  416.63033289,  416.67024486,\n",
       "          416.67457148,  416.6998551 ,  416.73891169,  416.76453713,\n",
       "          416.79219352,  416.79827888,  416.82147652,  416.8282423 ,\n",
       "          416.85264574,  416.85860409,  416.88838549,  416.90550756,\n",
       "          416.98262552,  417.05278264,  417.0971594 ,  417.11928139,\n",
       "          417.12239949,  417.17921495,  417.19613368,  417.26213865,\n",
       "          417.279636  ,  417.2851366 ,  417.29879209,  417.34918165,\n",
       "          417.444993  ,  417.71627688,  417.78702799,  417.81859797,\n",
       "          417.87433987,  417.91517418,  417.91526762,  417.93571836,\n",
       "          417.98909808,  418.00223633,  418.0136976 ,  418.01862161,\n",
       "          418.08920098,  418.25690988,  418.2691203 ,  418.32408111,\n",
       "          418.53467295,  418.54605833,  418.71835021,  418.74681989,\n",
       "          418.77088675,  418.97056618,  419.15155202,  419.18575699,\n",
       "          419.23736351,  419.40164306,  419.45324293,  419.51845294,\n",
       "          419.79117022,  419.84665689,  419.85184594,  420.01831129,\n",
       "          420.07806892,  420.22624791,  420.28077103,  420.4688958 ,\n",
       "          420.48715316,  420.50572199,  420.53535574,  420.61204865,\n",
       "          420.82476532,  420.92241134,  420.97286603,  421.05658639,\n",
       "          421.07399481,  421.09057575,  421.13019084,  421.48673375,\n",
       "          421.5574315 ,  421.74566692,  421.88734648,  421.9754784 ,\n",
       "          422.19090125,  422.21530092,  422.2331647 ,  422.35960625,\n",
       "          422.36237816,  423.56507518,  423.7953578 ,  423.84646614,\n",
       "          424.11511172,  424.22241433,  424.64227179,  424.73836101,\n",
       "          424.75493162,  424.97987549,  425.48290105,  425.90648728,\n",
       "          426.09576291,  426.20410236,  426.56945146,  426.64054649,\n",
       "          426.65884276,  426.91211431,  427.09511744,  427.5981968 ,\n",
       "          429.16795406,  430.47474455,  431.45828893,  434.63402725])),\n",
       " (0.20886662879795376, 307.40012658806563, 0.99864166988203185))"
      ]
     },
     "execution_count": 62,
     "metadata": {},
     "output_type": "execute_result"
    },
    {
     "data": {
      "image/png": "[encoded data removed]",
      "text/plain": [
       "<matplotlib.figure.Figure at 0x7fc11692dad0>"
      ]
     },
     "metadata": {},
     "output_type": "display_data"
    }
   ],
   "source": [
    "scipy.stats.probplot(control_boot_chi_squared, dist=\"chi2\", sparams=(500-1), plot=plt)"
   ]
  },
  {
   "cell_type": "code",
   "execution_count": 54,
   "metadata": {
    "collapsed": false,
    "scrolled": true
   },
   "outputs": [
    {
     "data": {
      "text/plain": [
       "((array([ -2.99209858e+00,  -2.71015927e+00,  -2.55162541e+00,\n",
       "          -2.43921385e+00,  -2.35113311e+00,  -2.27822091e+00,\n",
       "          -2.21572267e+00,  -2.16084152e+00,  -2.11178767e+00,\n",
       "          -2.06734403e+00,  -2.02664403e+00,  -1.98904794e+00,\n",
       "          -1.95406954e+00,  -1.92133033e+00,  -1.89052965e+00,\n",
       "          -1.86142459e+00,  -1.83381593e+00,  -1.80753820e+00,\n",
       "          -1.78245240e+00,  -1.75844061e+00,  -1.73540186e+00,\n",
       "          -1.71324904e+00,  -1.69190643e+00,  -1.67130780e+00,\n",
       "          -1.65139483e+00,  -1.63211595e+00,  -1.61342528e+00,\n",
       "          -1.59528183e+00,  -1.57764883e+00,  -1.56049314e+00,\n",
       "          -1.54378481e+00,  -1.52749667e+00,  -1.51160399e+00,\n",
       "          -1.49608418e+00,  -1.48091659e+00,  -1.46608224e+00,\n",
       "          -1.45156367e+00,  -1.43734479e+00,  -1.42341071e+00,\n",
       "          -1.40974764e+00,  -1.39634279e+00,  -1.38318426e+00,\n",
       "          -1.37026095e+00,  -1.35756253e+00,  -1.34507932e+00,\n",
       "          -1.33280226e+00,  -1.32072287e+00,  -1.30883317e+00,\n",
       "          -1.29712567e+00,  -1.28559331e+00,  -1.27422944e+00,\n",
       "          -1.26302778e+00,  -1.25198239e+00,  -1.24108768e+00,\n",
       "          -1.23033831e+00,  -1.21972926e+00,  -1.20925574e+00,\n",
       "          -1.19891322e+00,  -1.18869738e+00,  -1.17860411e+00,\n",
       "          -1.16862950e+00,  -1.15876983e+00,  -1.14902154e+00,\n",
       "          -1.13938123e+00,  -1.12984566e+00,  -1.12041173e+00,\n",
       "          -1.11107648e+00,  -1.10183707e+00,  -1.09269077e+00,\n",
       "          -1.08363498e+00,  -1.07466719e+00,  -1.06578501e+00,\n",
       "          -1.05698612e+00,  -1.04826831e+00,  -1.03962946e+00,\n",
       "          -1.03106750e+00,  -1.02258046e+00,  -1.01416645e+00,\n",
       "          -1.00582364e+00,  -9.97550247e-01,  -9.89344581e-01,\n",
       "          -9.81204996e-01,  -9.73129904e-01,  -9.65117774e-01,\n",
       "          -9.57167125e-01,  -9.49276525e-01,  -9.41444591e-01,\n",
       "          -9.33669982e-01,  -9.25951403e-01,  -9.18287599e-01,\n",
       "          -9.10677353e-01,  -9.03119487e-01,  -8.95612861e-01,\n",
       "          -8.88156365e-01,  -8.80748927e-01,  -8.73389502e-01,\n",
       "          -8.66077081e-01,  -8.58810678e-01,  -8.51589342e-01,\n",
       "          -8.44412143e-01,  -8.37278180e-01,  -8.30186576e-01,\n",
       "          -8.23136480e-01,  -8.16127061e-01,  -8.09157513e-01,\n",
       "          -8.02227049e-01,  -7.95334905e-01,  -7.88480336e-01,\n",
       "          -7.81662614e-01,  -7.74881033e-01,  -7.68134903e-01,\n",
       "          -7.61423551e-01,  -7.54746322e-01,  -7.48102575e-01,\n",
       "          -7.41491685e-01,  -7.34913044e-01,  -7.28366057e-01,\n",
       "          -7.21850142e-01,  -7.15364731e-01,  -7.08909270e-01,\n",
       "          -7.02483218e-01,  -6.96086043e-01,  -6.89717230e-01,\n",
       "          -6.83376271e-01,  -6.77062670e-01,  -6.70775943e-01,\n",
       "          -6.64515617e-01,  -6.58281226e-01,  -6.52072317e-01,\n",
       "          -6.45888445e-01,  -6.39729174e-01,  -6.33594076e-01,\n",
       "          -6.27482735e-01,  -6.21394740e-01,  -6.15329690e-01,\n",
       "          -6.09287191e-01,  -6.03266856e-01,  -5.97268307e-01,\n",
       "          -5.91291174e-01,  -5.85335090e-01,  -5.79399700e-01,\n",
       "          -5.73484651e-01,  -5.67589599e-01,  -5.61714207e-01,\n",
       "          -5.55858142e-01,  -5.50021077e-01,  -5.44202692e-01,\n",
       "          -5.38402673e-01,  -5.32620709e-01,  -5.26856497e-01,\n",
       "          -5.21109737e-01,  -5.15380136e-01,  -5.09667405e-01,\n",
       "          -5.03971258e-01,  -4.98291417e-01,  -4.92627606e-01,\n",
       "          -4.86979553e-01,  -4.81346993e-01,  -4.75729663e-01,\n",
       "          -4.70127305e-01,  -4.64539663e-01,  -4.58966488e-01,\n",
       "          -4.53407532e-01,  -4.47862553e-01,  -4.42331309e-01,\n",
       "          -4.36813566e-01,  -4.31309089e-01,  -4.25817651e-01,\n",
       "          -4.20339023e-01,  -4.14872983e-01,  -4.09419311e-01,\n",
       "          -4.03977788e-01,  -3.98548202e-01,  -3.93130339e-01,\n",
       "          -3.87723992e-01,  -3.82328953e-01,  -3.76945020e-01,\n",
       "          -3.71571992e-01,  -3.66209669e-01,  -3.60857856e-01,\n",
       "          -3.55516359e-01,  -3.50184986e-01,  -3.44863547e-01,\n",
       "          -3.39551857e-01,  -3.34249730e-01,  -3.28956983e-01,\n",
       "          -3.23673435e-01,  -3.18398908e-01,  -3.13133223e-01,\n",
       "          -3.07876207e-01,  -3.02627686e-01,  -2.97387487e-01,\n",
       "          -2.92155443e-01,  -2.86931384e-01,  -2.81715143e-01,\n",
       "          -2.76506557e-01,  -2.71305462e-01,  -2.66111695e-01,\n",
       "          -2.60925097e-01,  -2.55745509e-01,  -2.50572773e-01,\n",
       "          -2.45406732e-01,  -2.40247233e-01,  -2.35094122e-01,\n",
       "          -2.29947246e-01,  -2.24806454e-01,  -2.19671596e-01,\n",
       "          -2.14542524e-01,  -2.09419090e-01,  -2.04301147e-01,\n",
       "          -1.99188550e-01,  -1.94081154e-01,  -1.88978816e-01,\n",
       "          -1.83881393e-01,  -1.78788743e-01,  -1.73700727e-01,\n",
       "          -1.68617203e-01,  -1.63538032e-01,  -1.58463078e-01,\n",
       "          -1.53392201e-01,  -1.48325265e-01,  -1.43262135e-01,\n",
       "          -1.38202675e-01,  -1.33146749e-01,  -1.28094226e-01,\n",
       "          -1.23044970e-01,  -1.17998849e-01,  -1.12955731e-01,\n",
       "          -1.07915484e-01,  -1.02877978e-01,  -9.78430801e-02,\n",
       "          -9.28106619e-02,  -8.77805930e-02,  -8.27527442e-02,\n",
       "          -7.77269864e-02,  -7.27031911e-02,  -6.76812301e-02,\n",
       "          -6.26609755e-02,  -5.76422995e-02,  -5.26250751e-02,\n",
       "          -4.76091750e-02,  -4.25944724e-02,  -3.75808407e-02,\n",
       "          -3.25681535e-02,  -2.75562846e-02,  -2.25451077e-02,\n",
       "          -1.75344969e-02,  -1.25243263e-02,  -7.51447003e-03,\n",
       "          -2.50480239e-03,   2.50480239e-03,   7.51447003e-03,\n",
       "           1.25243263e-02,   1.75344969e-02,   2.25451077e-02,\n",
       "           2.75562846e-02,   3.25681535e-02,   3.75808407e-02,\n",
       "           4.25944724e-02,   4.76091750e-02,   5.26250751e-02,\n",
       "           5.76422995e-02,   6.26609755e-02,   6.76812301e-02,\n",
       "           7.27031911e-02,   7.77269864e-02,   8.27527442e-02,\n",
       "           8.77805930e-02,   9.28106619e-02,   9.78430801e-02,\n",
       "           1.02877978e-01,   1.07915484e-01,   1.12955731e-01,\n",
       "           1.17998849e-01,   1.23044970e-01,   1.28094226e-01,\n",
       "           1.33146749e-01,   1.38202675e-01,   1.43262135e-01,\n",
       "           1.48325265e-01,   1.53392201e-01,   1.58463078e-01,\n",
       "           1.63538032e-01,   1.68617203e-01,   1.73700727e-01,\n",
       "           1.78788743e-01,   1.83881393e-01,   1.88978816e-01,\n",
       "           1.94081154e-01,   1.99188550e-01,   2.04301147e-01,\n",
       "           2.09419090e-01,   2.14542524e-01,   2.19671596e-01,\n",
       "           2.24806454e-01,   2.29947246e-01,   2.35094122e-01,\n",
       "           2.40247233e-01,   2.45406732e-01,   2.50572773e-01,\n",
       "           2.55745509e-01,   2.60925097e-01,   2.66111695e-01,\n",
       "           2.71305462e-01,   2.76506557e-01,   2.81715143e-01,\n",
       "           2.86931384e-01,   2.92155443e-01,   2.97387487e-01,\n",
       "           3.02627686e-01,   3.07876207e-01,   3.13133223e-01,\n",
       "           3.18398908e-01,   3.23673435e-01,   3.28956983e-01,\n",
       "           3.34249730e-01,   3.39551857e-01,   3.44863547e-01,\n",
       "           3.50184986e-01,   3.55516359e-01,   3.60857856e-01,\n",
       "           3.66209669e-01,   3.71571992e-01,   3.76945020e-01,\n",
       "           3.82328953e-01,   3.87723992e-01,   3.93130339e-01,\n",
       "           3.98548202e-01,   4.03977788e-01,   4.09419311e-01,\n",
       "           4.14872983e-01,   4.20339023e-01,   4.25817651e-01,\n",
       "           4.31309089e-01,   4.36813566e-01,   4.42331309e-01,\n",
       "           4.47862553e-01,   4.53407532e-01,   4.58966488e-01,\n",
       "           4.64539663e-01,   4.70127305e-01,   4.75729663e-01,\n",
       "           4.81346993e-01,   4.86979553e-01,   4.92627606e-01,\n",
       "           4.98291417e-01,   5.03971258e-01,   5.09667405e-01,\n",
       "           5.15380136e-01,   5.21109737e-01,   5.26856497e-01,\n",
       "           5.32620709e-01,   5.38402673e-01,   5.44202692e-01,\n",
       "           5.50021077e-01,   5.55858142e-01,   5.61714207e-01,\n",
       "           5.67589599e-01,   5.73484651e-01,   5.79399700e-01,\n",
       "           5.85335090e-01,   5.91291174e-01,   5.97268307e-01,\n",
       "           6.03266856e-01,   6.09287191e-01,   6.15329690e-01,\n",
       "           6.21394740e-01,   6.27482735e-01,   6.33594076e-01,\n",
       "           6.39729174e-01,   6.45888445e-01,   6.52072317e-01,\n",
       "           6.58281226e-01,   6.64515617e-01,   6.70775943e-01,\n",
       "           6.77062670e-01,   6.83376271e-01,   6.89717230e-01,\n",
       "           6.96086043e-01,   7.02483218e-01,   7.08909270e-01,\n",
       "           7.15364731e-01,   7.21850142e-01,   7.28366057e-01,\n",
       "           7.34913044e-01,   7.41491685e-01,   7.48102575e-01,\n",
       "           7.54746322e-01,   7.61423551e-01,   7.68134903e-01,\n",
       "           7.74881033e-01,   7.81662614e-01,   7.88480336e-01,\n",
       "           7.95334905e-01,   8.02227049e-01,   8.09157513e-01,\n",
       "           8.16127061e-01,   8.23136480e-01,   8.30186576e-01,\n",
       "           8.37278180e-01,   8.44412143e-01,   8.51589342e-01,\n",
       "           8.58810678e-01,   8.66077081e-01,   8.73389502e-01,\n",
       "           8.80748927e-01,   8.88156365e-01,   8.95612861e-01,\n",
       "           9.03119487e-01,   9.10677353e-01,   9.18287599e-01,\n",
       "           9.25951403e-01,   9.33669982e-01,   9.41444591e-01,\n",
       "           9.49276525e-01,   9.57167125e-01,   9.65117774e-01,\n",
       "           9.73129904e-01,   9.81204996e-01,   9.89344581e-01,\n",
       "           9.97550247e-01,   1.00582364e+00,   1.01416645e+00,\n",
       "           1.02258046e+00,   1.03106750e+00,   1.03962946e+00,\n",
       "           1.04826831e+00,   1.05698612e+00,   1.06578501e+00,\n",
       "           1.07466719e+00,   1.08363498e+00,   1.09269077e+00,\n",
       "           1.10183707e+00,   1.11107648e+00,   1.12041173e+00,\n",
       "           1.12984566e+00,   1.13938123e+00,   1.14902154e+00,\n",
       "           1.15876983e+00,   1.16862950e+00,   1.17860411e+00,\n",
       "           1.18869738e+00,   1.19891322e+00,   1.20925574e+00,\n",
       "           1.21972926e+00,   1.23033831e+00,   1.24108768e+00,\n",
       "           1.25198239e+00,   1.26302778e+00,   1.27422944e+00,\n",
       "           1.28559331e+00,   1.29712567e+00,   1.30883317e+00,\n",
       "           1.32072287e+00,   1.33280226e+00,   1.34507932e+00,\n",
       "           1.35756253e+00,   1.37026095e+00,   1.38318426e+00,\n",
       "           1.39634279e+00,   1.40974764e+00,   1.42341071e+00,\n",
       "           1.43734479e+00,   1.45156367e+00,   1.46608224e+00,\n",
       "           1.48091659e+00,   1.49608418e+00,   1.51160399e+00,\n",
       "           1.52749667e+00,   1.54378481e+00,   1.56049314e+00,\n",
       "           1.57764883e+00,   1.59528183e+00,   1.61342528e+00,\n",
       "           1.63211595e+00,   1.65139483e+00,   1.67130780e+00,\n",
       "           1.69190643e+00,   1.71324904e+00,   1.73540186e+00,\n",
       "           1.75844061e+00,   1.78245240e+00,   1.80753820e+00,\n",
       "           1.83381593e+00,   1.86142459e+00,   1.89052965e+00,\n",
       "           1.92133033e+00,   1.95406954e+00,   1.98904794e+00,\n",
       "           2.02664403e+00,   2.06734403e+00,   2.11178767e+00,\n",
       "           2.16084152e+00,   2.21572267e+00,   2.27822091e+00,\n",
       "           2.35113311e+00,   2.43921385e+00,   2.55162541e+00,\n",
       "           2.71015927e+00,   2.99209858e+00]),\n",
       "  array([ 11.1824434 ,  11.18473822,  11.18830521,  11.19382261,\n",
       "          11.20258369,  11.20325492,  11.20355363,  11.20505423,\n",
       "          11.20609094,  11.20625611,  11.2079043 ,  11.21138343,\n",
       "          11.21287699,  11.21341468,  11.2142827 ,  11.21573761,\n",
       "          11.21579735,  11.21644749,  11.21674621,  11.21906563,\n",
       "          11.21948031,  11.21979308,  11.22034833,  11.22213007,\n",
       "          11.22245338,  11.22327924,  11.22662131,  11.22713439,\n",
       "          11.22731011,  11.22771776,  11.22815002,  11.22822382,\n",
       "          11.2283187 ,  11.22885287,  11.22957681,  11.22997744,\n",
       "          11.23038158,  11.23081032,  11.23154129,  11.23157292,\n",
       "          11.23189623,  11.23309108,  11.23465845,  11.23483065,\n",
       "          11.23608524,  11.23640153,  11.23664401,  11.23698138,\n",
       "          11.23704112,  11.23742769,  11.23755772,  11.23802863,\n",
       "          11.23852766,  11.23865417,  11.23902669,  11.23916726,\n",
       "          11.23991228,  11.23992283,  11.24141639,  11.24158508,\n",
       "          11.24160968,  11.24163779,  11.24169753,  11.24231605,\n",
       "          11.24278344,  11.24281859,  11.24329653,  11.24353901,\n",
       "          11.24396424,  11.24425592,  11.24438244,  11.24446327,\n",
       "          11.24460384,  11.24470224,  11.24473035,  11.24482172,\n",
       "          11.24492715,  11.24534183,  11.24545078,  11.24585492,\n",
       "          11.24586195,  11.24649803,  11.24708843,  11.2472782 ,\n",
       "          11.24735551,  11.24748202,  11.2476472 ,  11.24791779,\n",
       "          11.24809351,  11.24811811,  11.24844845,  11.24918996,\n",
       "          11.2492497 ,  11.2493727 ,  11.25008259,  11.25017747,\n",
       "          11.25060621,  11.25065541,  11.25088735,  11.2511193 ,\n",
       "          11.25147775,  11.25171321,  11.25188541,  11.25189244,\n",
       "          11.25201895,  11.25222981,  11.25248986,  11.25299943,\n",
       "          11.25305566,  11.25328409,  11.25384637,  11.25398343,\n",
       "          11.2544684 ,  11.25458085,  11.25487605,  11.25488659,\n",
       "          11.25505528,  11.25508691,  11.25525559,  11.25577219,\n",
       "          11.25590925,  11.25621147,  11.2565875 ,  11.25684404,\n",
       "          11.25686513,  11.25702679,  11.25707247,  11.2574977 ,\n",
       "          11.2575223 ,  11.25800024,  11.25810215,  11.25842898,\n",
       "          11.25844304,  11.25859415,  11.25865741,  11.25881555,\n",
       "          11.25891746,  11.25895964,  11.25947623,  11.25970466,\n",
       "          11.25977846,  11.25985577,  11.26035129,  11.2605024 ,\n",
       "          11.26053403,  11.26064649,  11.26068163,  11.26083977,\n",
       "          11.26097331,  11.2612896 ,  11.2613634 ,  11.26144071,\n",
       "          11.26180619,  11.26218222,  11.26227359,  11.26281479,\n",
       "          11.26318028,  11.26321893,  11.26322947,  11.26338762,\n",
       "          11.26359496,  11.26368633,  11.2644419 ,  11.26454381,\n",
       "          11.26457544,  11.2647617 ,  11.26483901,  11.26504284,\n",
       "          11.26541184,  11.26546455,  11.26611821,  11.26614281,\n",
       "          11.26634312,  11.26644152,  11.26677186,  11.26709869,\n",
       "          11.26725683,  11.26732009,  11.26743254,  11.26772071,\n",
       "          11.267791  ,  11.26825137,  11.26838843,  11.26864848,\n",
       "          11.26938648,  11.26955165,  11.26982225,  11.26989956,\n",
       "          11.27000499,  11.27000499,  11.2701069 ,  11.27039156,\n",
       "          11.27042319,  11.27065162,  11.27087302,  11.27089762,\n",
       "          11.2709679 ,  11.27140016,  11.27146341,  11.27182538,\n",
       "          11.2718535 ,  11.27223655,  11.27256338,  11.27274261,\n",
       "          11.27291481,  11.27308701,  11.27322758,  11.27336815,\n",
       "          11.27396909,  11.2742924 ,  11.27455597,  11.27467546,\n",
       "          11.27471411,  11.27503743,  11.27530451,  11.27552942,\n",
       "          11.27571217,  11.27575082,  11.27606359,  11.27607765,\n",
       "          11.27635879,  11.27653802,  11.27671373,  11.27682971,\n",
       "          11.27694568,  11.2769527 ,  11.2769773 ,  11.27720573,\n",
       "          11.27725142,  11.27727602,  11.27733927,  11.27770827,\n",
       "          11.2779121 ,  11.2780597 ,  11.27836544,  11.27838301,\n",
       "          11.27846033,  11.27860793,  11.27994686,  11.28058646,\n",
       "          11.28083246,  11.28117334,  11.2812612 ,  11.28151072,\n",
       "          11.28184106,  11.28203434,  11.28229088,  11.28238577,\n",
       "          11.28250877,  11.28252634,  11.28253688,  11.28272314,\n",
       "          11.28278991,  11.28314134,  11.28398828,  11.28416399,\n",
       "          11.28446973,  11.28469816,  11.28474033,  11.28484927,\n",
       "          11.2850285 ,  11.28556267,  11.28580515,  11.28592464,\n",
       "          11.2860125 ,  11.28606521,  11.28624444,  11.28626904,\n",
       "          11.2863077 ,  11.28664507,  11.28678915,  11.28686295,\n",
       "          11.28696838,  11.28699298,  11.28710895,  11.28711949,\n",
       "          11.28720735,  11.28752363,  11.28766772,  11.28801563,\n",
       "          11.28801915,  11.28806483,  11.28822649,  11.2882546 ,\n",
       "          11.28858143,  11.28905937,  11.28936863,  11.28947405,\n",
       "          11.28947405,  11.2894846 ,  11.29010311,  11.29016637,\n",
       "          11.29018042,  11.29076379,  11.29080245,  11.29098871,\n",
       "          11.29106602,  11.2914315 ,  11.29150179,  11.29210976,\n",
       "          11.29266853,  11.29273178,  11.29294967,  11.2932765 ,\n",
       "          11.29331515,  11.29344518,  11.29394069,  11.29416209,\n",
       "          11.29428158,  11.29433781,  11.29509689,  11.29521989,\n",
       "          11.29547994,  11.29560294,  11.29560294,  11.29567323,\n",
       "          11.29593329,  11.29605277,  11.29621091,  11.29674157,\n",
       "          11.29675211,  11.29711759,  11.29722302,  11.29742685,\n",
       "          11.29763068,  11.29792939,  11.29811565,  11.2981543 ,\n",
       "          11.29825973,  11.29829136,  11.29831596,  11.29833353,\n",
       "          11.29864279,  11.2987939 ,  11.29890284,  11.29922616,\n",
       "          11.29926833,  11.29961273,  11.29963381,  11.29964787,\n",
       "          11.29983413,  11.29996415,  11.30047021,  11.30052292,\n",
       "          11.30085678,  11.30089544,  11.30102546,  11.30107466,\n",
       "          11.30115198,  11.30138743,  11.30154558,  11.30205866,\n",
       "          11.30206217,  11.30224492,  11.30304968,  11.30406531,\n",
       "          11.30407234,  11.30417074,  11.30423399,  11.30444134,\n",
       "          11.30509851,  11.30533396,  11.30537613,  11.3056151 ,\n",
       "          11.30621253,  11.30638121,  11.3064023 ,  11.3066237 ,\n",
       "          11.3067467 ,  11.30696458,  11.30697513,  11.30702433,\n",
       "          11.30723167,  11.30758309,  11.30762527,  11.30769907,\n",
       "          11.30774827,  11.30777638,  11.30783261,  11.30794155,\n",
       "          11.30805401,  11.30807158,  11.30812781,  11.30849329,\n",
       "          11.30862683,  11.30909775,  11.30965652,  11.30980763,\n",
       "          11.30995171,  11.31005011,  11.31013094,  11.31022583,\n",
       "          11.31023988,  11.31073891,  11.31076702,  11.31091814,\n",
       "          11.31153665,  11.31211651,  11.3121903 ,  11.31226762,\n",
       "          11.31240116,  11.3129529 ,  11.3130759 ,  11.31313213,\n",
       "          11.31313213,  11.31350113,  11.31362061,  11.31378578,\n",
       "          11.31448864,  11.3145765 ,  11.31662532,  11.31675183,\n",
       "          11.3168432 ,  11.3173352 ,  11.31745117,  11.3177042 ,\n",
       "          11.31774285,  11.31789045,  11.31813997,  11.31905368,\n",
       "          11.31961947,  11.31993224,  11.32042424,  11.32091624,\n",
       "          11.3211517 ,  11.32129227,  11.3215207 ,  11.32158395,\n",
       "          11.32161558,  11.32216029,  11.32217786,  11.32259958,\n",
       "          11.323443  ,  11.32429697,  11.32484168,  11.32580811,\n",
       "          11.32588893,  11.32591002,  11.32596625,  11.32616305,\n",
       "          11.32656719,  11.32761444,  11.32796236,  11.32822593,\n",
       "          11.32949809,  11.3303134 ,  11.33039775,  11.33050669,\n",
       "          11.33194402,  11.33224977,  11.33308616,  11.33376442,\n",
       "          11.33431967,  11.33487844,  11.33491358,  11.33536341,\n",
       "          11.33593272,  11.33637552,  11.33695186,  11.33701863,\n",
       "          11.33731383,  11.337971  ,  11.33971408,  11.34042045,\n",
       "          11.34072267,  11.34170316,  11.34221624,  11.34325646,\n",
       "          11.34401203,  11.344128  ,  11.3461698 ,  11.34617682,\n",
       "          11.34640174,  11.34911476,  11.3497649 ,  11.34978598,\n",
       "          11.35071023,  11.3522776 ,  11.35456188,  11.35491682,\n",
       "          11.35499413,  11.35563021,  11.35623818,  11.35998088,\n",
       "          11.36001603,  11.36725542,  11.36806371,  11.36816211,\n",
       "          11.3690477 ,  11.37050261,  11.37085404,  11.37088215,\n",
       "          11.37353191,  11.37428748,  11.37443508,  11.37471271,\n",
       "          11.3776155 ,  11.37896849,  11.38956402,  11.39341215])),\n",
       " (0.037774667185630974, 11.283244614378994, 0.99797483646042062))"
      ]
     },
     "execution_count": 54,
     "metadata": {},
     "output_type": "execute_result"
    },
    {
     "data": {
      "image/png": "[encoded data removed]",
      "text/plain": [
       "<matplotlib.figure.Figure at 0x7fc1169d86d0>"
      ]
     },
     "metadata": {},
     "output_type": "display_data"
    }
   ],
   "source": [
    "scipy.stats.probplot(control_boot_mean, plot=plt)"
   ]
  },
  {
   "cell_type": "code",
   "execution_count": 64,
   "metadata": {
    "collapsed": false
   },
   "outputs": [],
   "source": [
    "n_click_control_by_user = data[data['slot']=='control'].groupby(by='userID')['n_clicks'].agg(np.sum)"
   ]
  },
  {
   "cell_type": "code",
   "execution_count": 65,
   "metadata": {
    "collapsed": true
   },
   "outputs": [],
   "source": [
    "n_click_exp_by_user = data[data['slot']=='exp'].groupby(by='userID')['n_clicks'].agg(np.sum)"
   ]
  },
  {
   "cell_type": "code",
   "execution_count": 67,
   "metadata": {
    "collapsed": false
   },
   "outputs": [
    {
     "data": {
      "text/plain": [
       "count    284392.000000\n",
       "mean         11.287332\n",
       "std          20.289501\n",
       "min           0.000000\n",
       "25%           1.000000\n",
       "50%           4.000000\n",
       "75%          13.000000\n",
       "max         863.000000\n",
       "Name: n_clicks, dtype: float64"
      ]
     },
     "execution_count": 67,
     "metadata": {},
     "output_type": "execute_result"
    }
   ],
   "source": [
    "n_click_control_by_user.describe()"
   ]
  },
  {
   "cell_type": "code",
   "execution_count": 68,
   "metadata": {
    "collapsed": false
   },
   "outputs": [
    {
     "data": {
      "text/plain": [
       "count    281450.000000\n",
       "mean         11.589352\n",
       "std          20.225421\n",
       "min           0.000000\n",
       "25%           1.000000\n",
       "50%           5.000000\n",
       "75%          13.000000\n",
       "max         776.000000\n",
       "Name: n_clicks, dtype: float64"
      ]
     },
     "execution_count": 68,
     "metadata": {},
     "output_type": "execute_result"
    }
   ],
   "source": [
    "n_click_exp_by_user.describe()"
   ]
  },
  {
   "cell_type": "code",
   "execution_count": 69,
   "metadata": {
    "collapsed": false
   },
   "outputs": [
    {
     "data": {
      "text/plain": [
       "MannwhitneyuResult(statistic=41140868471.0, pvalue=3.1266857702625713e-74)"
      ]
     },
     "execution_count": 69,
     "metadata": {},
     "output_type": "execute_result"
    }
   ],
   "source": [
    "stats.mannwhitneyu(n_click_exp_by_user, n_click_control_by_user)"
   ]
  },
  {
   "cell_type": "code",
   "execution_count": 71,
   "metadata": {
    "collapsed": false
   },
   "outputs": [
    {
     "name": "stdout",
     "output_type": "stream",
     "text": [
      "['Browser #2' 'Browser #4' 'Browser #14' 'Browser #17' 'Browser #20'\n",
      " 'Browser #22']\n"
     ]
    }
   ],
   "source": [
    "browsers = data.browser.unique()\n",
    "print browsers"
   ]
  },
  {
   "cell_type": "code",
   "execution_count": 73,
   "metadata": {
    "collapsed": false
   },
   "outputs": [
    {
     "name": "stdout",
     "output_type": "stream",
     "text": [
      "[0.055799789937236381, 0.81556888807591688, 0.0, 0.075379905635521299, 0.90754133162630202, 0.51616652908421157]\n"
     ]
    }
   ],
   "source": [
    "pvals = []\n",
    "for b in browsers:\n",
    "    e = exp[exp.browser==b]\n",
    "    c = control[control.browser==b]\n",
    "    pval = stats.mannwhitneyu(e.n_clicks, c.n_clicks).pvalue\n",
    "    pvals.append(pval)\n",
    "    \n",
    "print pvals"
   ]
  },
  {
   "cell_type": "code",
   "execution_count": 74,
   "metadata": {
    "collapsed": true
   },
   "outputs": [],
   "source": [
    "import statsmodels.stats.multitest as smm"
   ]
  },
  {
   "cell_type": "code",
   "execution_count": 77,
   "metadata": {
    "collapsed": true
   },
   "outputs": [],
   "source": [
    "rej, pval_corr = smm.multipletests(pvals, alpha=0.05/6, method='holm')[:2]"
   ]
  },
  {
   "cell_type": "code",
   "execution_count": 78,
   "metadata": {
    "collapsed": false
   },
   "outputs": [
    {
     "name": "stdout",
     "output_type": "stream",
     "text": [
      "[False False  True False False False] [ 0.27899895  1.          0.          0.30151962  1.          1.        ]\n"
     ]
    }
   ],
   "source": [
    "print rej, pval_corr"
   ]
  },
  {
   "cell_type": "code",
   "execution_count": 79,
   "metadata": {
    "collapsed": false
   },
   "outputs": [
    {
     "name": "stdout",
     "output_type": "stream",
     "text": [
      "[0.449827469485547, 0.4514294190358467, 0.4375561736127329, 0.3693741284866483, 0.3897737648371716, 0.3985394721969546]\n",
      "[0.4596274717919465, 0.4697092963514274, 0.5759041136008114, 0.36299366746282086, 0.4054048474338329, 0.40593976593513353]\n"
     ]
    }
   ],
   "source": [
    "exp_perc = []\n",
    "c_perc = []\n",
    "for b in browsers:\n",
    "    e = exp[exp.browser==b]\n",
    "    c = control[control.browser==b]\n",
    "    perc_e = np.sum(e.n_nonclk_queries)*1./np.sum(e.n_queries)\n",
    "    perc_c = np.sum(c.n_nonclk_queries)*1./np.sum(c.n_queries)\n",
    "    exp_perc.append(perc_e)\n",
    "    c_perc.append(perc_c)\n",
    "    \n",
    "print exp_perc\n",
    "print c_perc"
   ]
  },
  {
   "cell_type": "code",
   "execution_count": null,
   "metadata": {
    "collapsed": true
   },
   "outputs": [],
   "source": []
  }
 ],
 "metadata": {
  "kernelspec": {
   "display_name": "Python 2",
   "language": "python",
   "name": "python2"
  },
  "language_info": {
   "codemirror_mode": {
    "name": "ipython",
    "version": 2
   },
   "file_extension": ".py",
   "mimetype": "text/x-python",
   "name": "python",
   "nbconvert_exporter": "python",
   "pygments_lexer": "ipython2",
   "version": "2.7.12"
  }
 },
 "nbformat": 4,
 "nbformat_minor": 0
}
